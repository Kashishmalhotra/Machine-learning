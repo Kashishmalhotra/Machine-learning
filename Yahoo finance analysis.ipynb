{
 "cells": [
  {
   "cell_type": "markdown",
   "id": "8aa825c7",
   "metadata": {},
   "source": [
    "# Problem Statement"
   ]
  },
  {
   "cell_type": "raw",
   "id": "3f370de3",
   "metadata": {},
   "source": [
    "Predictive Modeling for Financial Market Analysis"
   ]
  },
  {
   "cell_type": "markdown",
   "id": "e41817f2",
   "metadata": {},
   "source": [
    "Importing important libraries"
   ]
  },
  {
   "cell_type": "code",
   "execution_count": 1,
   "id": "7b0e1179",
   "metadata": {},
   "outputs": [],
   "source": [
    "import pickle\n",
    "import numpy as np\n",
    "import pandas as pd\n",
    "import seaborn as sns\n",
    "import category_encoders as ce\n",
    "from sklearn.cluster import KMeans\n",
    "import matplotlib.pyplot as plt\n",
    "from sklearn.impute import SimpleImputer\n",
    "from sklearn.compose import ColumnTransformer\n",
    "from sklearn.linear_model import LinearRegression\n",
    "from sklearn.preprocessing import MinMaxScaler\n",
    "from sklearn.preprocessing import LabelEncoder\n",
    "from sklearn.preprocessing import OneHotEncoder\n",
    "from sklearn.preprocessing import OrdinalEncoder\n",
    "from sklearn.preprocessing import StandardScaler\n",
    "from sklearn.model_selection import GridSearchCV\n",
    "from sklearn.linear_model import LogisticRegression\n",
    "from sklearn.pipeline import Pipeline,make_pipeline\n",
    "from sklearn.model_selection import cross_val_score\n",
    "from sklearn.model_selection import train_test_split\n",
    "from sklearn.feature_selection import SelectKBest,chi2\n",
    "from sklearn.metrics import accuracy_score , confusion_matrix"
   ]
  },
  {
   "cell_type": "code",
   "execution_count": 2,
   "id": "3bd6cc25",
   "metadata": {},
   "outputs": [
    {
     "data": {
      "text/html": [
       "<div>\n",
       "<style scoped>\n",
       "    .dataframe tbody tr th:only-of-type {\n",
       "        vertical-align: middle;\n",
       "    }\n",
       "\n",
       "    .dataframe tbody tr th {\n",
       "        vertical-align: top;\n",
       "    }\n",
       "\n",
       "    .dataframe thead th {\n",
       "        text-align: right;\n",
       "    }\n",
       "</style>\n",
       "<table border=\"1\" class=\"dataframe\">\n",
       "  <thead>\n",
       "    <tr style=\"text-align: right;\">\n",
       "      <th></th>\n",
       "      <th>Unnamed: 0</th>\n",
       "      <th>Symbol</th>\n",
       "      <th>Name</th>\n",
       "      <th>Price (Intraday)</th>\n",
       "      <th>Change</th>\n",
       "      <th>% Change</th>\n",
       "      <th>Volume</th>\n",
       "      <th>Avg Vol (3 month)</th>\n",
       "      <th>Market Cap</th>\n",
       "      <th>PE Ratio (TTM)</th>\n",
       "      <th>52 Week Range</th>\n",
       "    </tr>\n",
       "  </thead>\n",
       "  <tbody>\n",
       "    <tr>\n",
       "      <th>0</th>\n",
       "      <td>0</td>\n",
       "      <td>BFAFX</td>\n",
       "      <td>American Funds Bond Fund of Amer F1</td>\n",
       "      <td>-0.05</td>\n",
       "      <td>-0.45%</td>\n",
       "      <td>11.01</td>\n",
       "      <td>11.17</td>\n",
       "      <td>11.14</td>\n",
       "      <td>-0.84%</td>\n",
       "      <td>-0.84%</td>\n",
       "      <td>NaN</td>\n",
       "    </tr>\n",
       "    <tr>\n",
       "      <th>1</th>\n",
       "      <td>1</td>\n",
       "      <td>ABNFX</td>\n",
       "      <td>American Funds Bond Fund of Amer F2</td>\n",
       "      <td>-0.05</td>\n",
       "      <td>-0.45%</td>\n",
       "      <td>11.01</td>\n",
       "      <td>11.17</td>\n",
       "      <td>11.14</td>\n",
       "      <td>-0.76%</td>\n",
       "      <td>-0.76%</td>\n",
       "      <td>NaN</td>\n",
       "    </tr>\n",
       "    <tr>\n",
       "      <th>2</th>\n",
       "      <td>2</td>\n",
       "      <td>CFAEX</td>\n",
       "      <td>American Funds Bond Fund of Amer 529E</td>\n",
       "      <td>-0.05</td>\n",
       "      <td>-0.45%</td>\n",
       "      <td>11.01</td>\n",
       "      <td>11.17</td>\n",
       "      <td>11.14</td>\n",
       "      <td>-0.88%</td>\n",
       "      <td>-0.88%</td>\n",
       "      <td>NaN</td>\n",
       "    </tr>\n",
       "    <tr>\n",
       "      <th>3</th>\n",
       "      <td>3</td>\n",
       "      <td>CFAFX</td>\n",
       "      <td>American Funds Bond Fund of Amer 529F</td>\n",
       "      <td>-0.05</td>\n",
       "      <td>-0.45%</td>\n",
       "      <td>11.01</td>\n",
       "      <td>11.17</td>\n",
       "      <td>11.14</td>\n",
       "      <td>-0.79%</td>\n",
       "      <td>-0.79%</td>\n",
       "      <td>NaN</td>\n",
       "    </tr>\n",
       "    <tr>\n",
       "      <th>4</th>\n",
       "      <td>4</td>\n",
       "      <td>RBFEX</td>\n",
       "      <td>American Funds Bond Fund of Amer R4</td>\n",
       "      <td>-0.05</td>\n",
       "      <td>-0.45%</td>\n",
       "      <td>11.01</td>\n",
       "      <td>11.17</td>\n",
       "      <td>11.14</td>\n",
       "      <td>-0.82%</td>\n",
       "      <td>-0.82%</td>\n",
       "      <td>NaN</td>\n",
       "    </tr>\n",
       "    <tr>\n",
       "      <th>...</th>\n",
       "      <td>...</td>\n",
       "      <td>...</td>\n",
       "      <td>...</td>\n",
       "      <td>...</td>\n",
       "      <td>...</td>\n",
       "      <td>...</td>\n",
       "      <td>...</td>\n",
       "      <td>...</td>\n",
       "      <td>...</td>\n",
       "      <td>...</td>\n",
       "      <td>...</td>\n",
       "    </tr>\n",
       "    <tr>\n",
       "      <th>445</th>\n",
       "      <td>445</td>\n",
       "      <td>0P0001M384</td>\n",
       "      <td>Polar Capital Fut Healthcare A acc USD</td>\n",
       "      <td>0.83</td>\n",
       "      <td>+0.85%</td>\n",
       "      <td>96.93</td>\n",
       "      <td>100.68</td>\n",
       "      <td>93.09</td>\n",
       "      <td>9.32%</td>\n",
       "      <td>9.32%</td>\n",
       "      <td>NaN</td>\n",
       "    </tr>\n",
       "    <tr>\n",
       "      <th>446</th>\n",
       "      <td>446</td>\n",
       "      <td>0P0001LUQZ</td>\n",
       "      <td>Invesco Funds - Invesco China Health Care Equi...</td>\n",
       "      <td>-0.01</td>\n",
       "      <td>-0.23%</td>\n",
       "      <td>4.2800</td>\n",
       "      <td>4.22</td>\n",
       "      <td>4.52</td>\n",
       "      <td>-11.42%</td>\n",
       "      <td>-11.42%</td>\n",
       "      <td>NaN</td>\n",
       "    </tr>\n",
       "    <tr>\n",
       "      <th>447</th>\n",
       "      <td>447</td>\n",
       "      <td>0P00000BON</td>\n",
       "      <td>Candriam Equities L Biotechnology</td>\n",
       "      <td>5.16</td>\n",
       "      <td>+0.71%</td>\n",
       "      <td>728.37</td>\n",
       "      <td>765.35</td>\n",
       "      <td>718.69</td>\n",
       "      <td>2.78%</td>\n",
       "      <td>2.78%</td>\n",
       "      <td>NaN</td>\n",
       "    </tr>\n",
       "    <tr>\n",
       "      <th>448</th>\n",
       "      <td>448</td>\n",
       "      <td>0P0001HJ7Z</td>\n",
       "      <td>Bellevue (Lux) Bellevue Dgtl Hthl AI2USD</td>\n",
       "      <td>1.53</td>\n",
       "      <td>+1.18%</td>\n",
       "      <td>129.78</td>\n",
       "      <td>135.55</td>\n",
       "      <td>133.36</td>\n",
       "      <td>1.49%</td>\n",
       "      <td>1.49%</td>\n",
       "      <td>NaN</td>\n",
       "    </tr>\n",
       "    <tr>\n",
       "      <th>449</th>\n",
       "      <td>449</td>\n",
       "      <td>0P0001BM5E</td>\n",
       "      <td>Sector Healthcare Value B USD</td>\n",
       "      <td>1.47</td>\n",
       "      <td>+0.91%</td>\n",
       "      <td>162.39</td>\n",
       "      <td>167.81</td>\n",
       "      <td>165.17</td>\n",
       "      <td>3.27%</td>\n",
       "      <td>3.27%</td>\n",
       "      <td>NaN</td>\n",
       "    </tr>\n",
       "  </tbody>\n",
       "</table>\n",
       "<p>450 rows × 11 columns</p>\n",
       "</div>"
      ],
      "text/plain": [
       "     Unnamed: 0      Symbol  \\\n",
       "0             0       BFAFX   \n",
       "1             1       ABNFX   \n",
       "2             2       CFAEX   \n",
       "3             3       CFAFX   \n",
       "4             4       RBFEX   \n",
       "..          ...         ...   \n",
       "445         445  0P0001M384   \n",
       "446         446  0P0001LUQZ   \n",
       "447         447  0P00000BON   \n",
       "448         448  0P0001HJ7Z   \n",
       "449         449  0P0001BM5E   \n",
       "\n",
       "                                                  Name  Price (Intraday)  \\\n",
       "0                  American Funds Bond Fund of Amer F1             -0.05   \n",
       "1                  American Funds Bond Fund of Amer F2             -0.05   \n",
       "2                American Funds Bond Fund of Amer 529E             -0.05   \n",
       "3                American Funds Bond Fund of Amer 529F             -0.05   \n",
       "4                  American Funds Bond Fund of Amer R4             -0.05   \n",
       "..                                                 ...               ...   \n",
       "445             Polar Capital Fut Healthcare A acc USD              0.83   \n",
       "446  Invesco Funds - Invesco China Health Care Equi...             -0.01   \n",
       "447                  Candriam Equities L Biotechnology              5.16   \n",
       "448           Bellevue (Lux) Bellevue Dgtl Hthl AI2USD              1.53   \n",
       "449                      Sector Healthcare Value B USD              1.47   \n",
       "\n",
       "     Change % Change  Volume Avg Vol (3 month) Market Cap PE Ratio (TTM)  \\\n",
       "0    -0.45%    11.01   11.17             11.14     -0.84%         -0.84%   \n",
       "1    -0.45%    11.01   11.17             11.14     -0.76%         -0.76%   \n",
       "2    -0.45%    11.01   11.17             11.14     -0.88%         -0.88%   \n",
       "3    -0.45%    11.01   11.17             11.14     -0.79%         -0.79%   \n",
       "4    -0.45%    11.01   11.17             11.14     -0.82%         -0.82%   \n",
       "..      ...      ...     ...               ...        ...            ...   \n",
       "445  +0.85%    96.93  100.68             93.09      9.32%          9.32%   \n",
       "446  -0.23%   4.2800    4.22              4.52    -11.42%        -11.42%   \n",
       "447  +0.71%   728.37  765.35            718.69      2.78%          2.78%   \n",
       "448  +1.18%   129.78  135.55            133.36      1.49%          1.49%   \n",
       "449  +0.91%   162.39  167.81            165.17      3.27%          3.27%   \n",
       "\n",
       "     52 Week Range  \n",
       "0              NaN  \n",
       "1              NaN  \n",
       "2              NaN  \n",
       "3              NaN  \n",
       "4              NaN  \n",
       "..             ...  \n",
       "445            NaN  \n",
       "446            NaN  \n",
       "447            NaN  \n",
       "448            NaN  \n",
       "449            NaN  \n",
       "\n",
       "[450 rows x 11 columns]"
      ]
     },
     "execution_count": 2,
     "metadata": {},
     "output_type": "execute_result"
    }
   ],
   "source": [
    "df = pd.read_csv(\"healthcare_finance.csv\")\n",
    "df"
   ]
  },
  {
   "cell_type": "markdown",
   "id": "42c86bad",
   "metadata": {},
   "source": [
    "# Checking null values"
   ]
  },
  {
   "cell_type": "code",
   "execution_count": 3,
   "id": "8d4d5906",
   "metadata": {},
   "outputs": [
    {
     "data": {
      "text/plain": [
       "Unnamed: 0           False\n",
       "Symbol               False\n",
       "Name                 False\n",
       "Price (Intraday)     False\n",
       "Change               False\n",
       "% Change             False\n",
       "Volume               False\n",
       "Avg Vol (3 month)    False\n",
       "Market Cap            True\n",
       "PE Ratio (TTM)        True\n",
       "52 Week Range         True\n",
       "dtype: bool"
      ]
     },
     "execution_count": 3,
     "metadata": {},
     "output_type": "execute_result"
    }
   ],
   "source": [
    "df.isnull().mean()*100>0"
   ]
  },
  {
   "cell_type": "code",
   "execution_count": 4,
   "id": "8bff469b",
   "metadata": {},
   "outputs": [
    {
     "data": {
      "text/plain": [
       "Unnamed: 0             0\n",
       "Symbol                 0\n",
       "Name                   0\n",
       "Price (Intraday)       0\n",
       "Change                 0\n",
       "% Change               0\n",
       "Volume                 0\n",
       "Avg Vol (3 month)      0\n",
       "Market Cap             5\n",
       "PE Ratio (TTM)         5\n",
       "52 Week Range        450\n",
       "dtype: int64"
      ]
     },
     "execution_count": 4,
     "metadata": {},
     "output_type": "execute_result"
    }
   ],
   "source": [
    "df.isna().sum()"
   ]
  },
  {
   "cell_type": "code",
   "execution_count": 5,
   "id": "92d0b357",
   "metadata": {},
   "outputs": [],
   "source": [
    "df.drop(columns=['52 Week Range'], inplace=True)\n",
    "df.drop(columns=[\"Unnamed: 0\"], inplace=True)\n",
    "df.drop(columns=[\"Symbol\"], inplace=True)\n",
    "df.drop(columns=[\"PE Ratio (TTM)\"], inplace=True)"
   ]
  },
  {
   "cell_type": "code",
   "execution_count": 6,
   "id": "ea714bbd",
   "metadata": {},
   "outputs": [
    {
     "data": {
      "text/html": [
       "<div>\n",
       "<style scoped>\n",
       "    .dataframe tbody tr th:only-of-type {\n",
       "        vertical-align: middle;\n",
       "    }\n",
       "\n",
       "    .dataframe tbody tr th {\n",
       "        vertical-align: top;\n",
       "    }\n",
       "\n",
       "    .dataframe thead th {\n",
       "        text-align: right;\n",
       "    }\n",
       "</style>\n",
       "<table border=\"1\" class=\"dataframe\">\n",
       "  <thead>\n",
       "    <tr style=\"text-align: right;\">\n",
       "      <th></th>\n",
       "      <th>Name</th>\n",
       "      <th>Price (Intraday)</th>\n",
       "      <th>Change</th>\n",
       "      <th>% Change</th>\n",
       "      <th>Volume</th>\n",
       "      <th>Avg Vol (3 month)</th>\n",
       "      <th>Market Cap</th>\n",
       "    </tr>\n",
       "  </thead>\n",
       "  <tbody>\n",
       "    <tr>\n",
       "      <th>0</th>\n",
       "      <td>American Funds Bond Fund of Amer F1</td>\n",
       "      <td>-0.05</td>\n",
       "      <td>-0.45%</td>\n",
       "      <td>11.01</td>\n",
       "      <td>11.17</td>\n",
       "      <td>11.14</td>\n",
       "      <td>-0.84%</td>\n",
       "    </tr>\n",
       "    <tr>\n",
       "      <th>1</th>\n",
       "      <td>American Funds Bond Fund of Amer F2</td>\n",
       "      <td>-0.05</td>\n",
       "      <td>-0.45%</td>\n",
       "      <td>11.01</td>\n",
       "      <td>11.17</td>\n",
       "      <td>11.14</td>\n",
       "      <td>-0.76%</td>\n",
       "    </tr>\n",
       "    <tr>\n",
       "      <th>2</th>\n",
       "      <td>American Funds Bond Fund of Amer 529E</td>\n",
       "      <td>-0.05</td>\n",
       "      <td>-0.45%</td>\n",
       "      <td>11.01</td>\n",
       "      <td>11.17</td>\n",
       "      <td>11.14</td>\n",
       "      <td>-0.88%</td>\n",
       "    </tr>\n",
       "    <tr>\n",
       "      <th>3</th>\n",
       "      <td>American Funds Bond Fund of Amer 529F</td>\n",
       "      <td>-0.05</td>\n",
       "      <td>-0.45%</td>\n",
       "      <td>11.01</td>\n",
       "      <td>11.17</td>\n",
       "      <td>11.14</td>\n",
       "      <td>-0.79%</td>\n",
       "    </tr>\n",
       "    <tr>\n",
       "      <th>4</th>\n",
       "      <td>American Funds Bond Fund of Amer R4</td>\n",
       "      <td>-0.05</td>\n",
       "      <td>-0.45%</td>\n",
       "      <td>11.01</td>\n",
       "      <td>11.17</td>\n",
       "      <td>11.14</td>\n",
       "      <td>-0.82%</td>\n",
       "    </tr>\n",
       "    <tr>\n",
       "      <th>...</th>\n",
       "      <td>...</td>\n",
       "      <td>...</td>\n",
       "      <td>...</td>\n",
       "      <td>...</td>\n",
       "      <td>...</td>\n",
       "      <td>...</td>\n",
       "      <td>...</td>\n",
       "    </tr>\n",
       "    <tr>\n",
       "      <th>445</th>\n",
       "      <td>Polar Capital Fut Healthcare A acc USD</td>\n",
       "      <td>0.83</td>\n",
       "      <td>+0.85%</td>\n",
       "      <td>96.93</td>\n",
       "      <td>100.68</td>\n",
       "      <td>93.09</td>\n",
       "      <td>9.32%</td>\n",
       "    </tr>\n",
       "    <tr>\n",
       "      <th>446</th>\n",
       "      <td>Invesco Funds - Invesco China Health Care Equi...</td>\n",
       "      <td>-0.01</td>\n",
       "      <td>-0.23%</td>\n",
       "      <td>4.2800</td>\n",
       "      <td>4.22</td>\n",
       "      <td>4.52</td>\n",
       "      <td>-11.42%</td>\n",
       "    </tr>\n",
       "    <tr>\n",
       "      <th>447</th>\n",
       "      <td>Candriam Equities L Biotechnology</td>\n",
       "      <td>5.16</td>\n",
       "      <td>+0.71%</td>\n",
       "      <td>728.37</td>\n",
       "      <td>765.35</td>\n",
       "      <td>718.69</td>\n",
       "      <td>2.78%</td>\n",
       "    </tr>\n",
       "    <tr>\n",
       "      <th>448</th>\n",
       "      <td>Bellevue (Lux) Bellevue Dgtl Hthl AI2USD</td>\n",
       "      <td>1.53</td>\n",
       "      <td>+1.18%</td>\n",
       "      <td>129.78</td>\n",
       "      <td>135.55</td>\n",
       "      <td>133.36</td>\n",
       "      <td>1.49%</td>\n",
       "    </tr>\n",
       "    <tr>\n",
       "      <th>449</th>\n",
       "      <td>Sector Healthcare Value B USD</td>\n",
       "      <td>1.47</td>\n",
       "      <td>+0.91%</td>\n",
       "      <td>162.39</td>\n",
       "      <td>167.81</td>\n",
       "      <td>165.17</td>\n",
       "      <td>3.27%</td>\n",
       "    </tr>\n",
       "  </tbody>\n",
       "</table>\n",
       "<p>450 rows × 7 columns</p>\n",
       "</div>"
      ],
      "text/plain": [
       "                                                  Name  Price (Intraday)  \\\n",
       "0                  American Funds Bond Fund of Amer F1             -0.05   \n",
       "1                  American Funds Bond Fund of Amer F2             -0.05   \n",
       "2                American Funds Bond Fund of Amer 529E             -0.05   \n",
       "3                American Funds Bond Fund of Amer 529F             -0.05   \n",
       "4                  American Funds Bond Fund of Amer R4             -0.05   \n",
       "..                                                 ...               ...   \n",
       "445             Polar Capital Fut Healthcare A acc USD              0.83   \n",
       "446  Invesco Funds - Invesco China Health Care Equi...             -0.01   \n",
       "447                  Candriam Equities L Biotechnology              5.16   \n",
       "448           Bellevue (Lux) Bellevue Dgtl Hthl AI2USD              1.53   \n",
       "449                      Sector Healthcare Value B USD              1.47   \n",
       "\n",
       "     Change % Change  Volume Avg Vol (3 month) Market Cap  \n",
       "0    -0.45%    11.01   11.17             11.14     -0.84%  \n",
       "1    -0.45%    11.01   11.17             11.14     -0.76%  \n",
       "2    -0.45%    11.01   11.17             11.14     -0.88%  \n",
       "3    -0.45%    11.01   11.17             11.14     -0.79%  \n",
       "4    -0.45%    11.01   11.17             11.14     -0.82%  \n",
       "..      ...      ...     ...               ...        ...  \n",
       "445  +0.85%    96.93  100.68             93.09      9.32%  \n",
       "446  -0.23%   4.2800    4.22              4.52    -11.42%  \n",
       "447  +0.71%   728.37  765.35            718.69      2.78%  \n",
       "448  +1.18%   129.78  135.55            133.36      1.49%  \n",
       "449  +0.91%   162.39  167.81            165.17      3.27%  \n",
       "\n",
       "[450 rows x 7 columns]"
      ]
     },
     "execution_count": 6,
     "metadata": {},
     "output_type": "execute_result"
    }
   ],
   "source": [
    "df"
   ]
  },
  {
   "cell_type": "markdown",
   "id": "c369bae3",
   "metadata": {},
   "source": [
    "# Encoding"
   ]
  },
  {
   "cell_type": "code",
   "execution_count": 7,
   "id": "28830247",
   "metadata": {},
   "outputs": [
    {
     "name": "stdout",
     "output_type": "stream",
     "text": [
      "                                                  Name  Price (Intraday)  \\\n",
      "0                  American Funds Bond Fund of Amer F1          0.300878   \n",
      "1                  American Funds Bond Fund of Amer F2          0.300878   \n",
      "2                American Funds Bond Fund of Amer 529E          0.300878   \n",
      "3                American Funds Bond Fund of Amer 529F          0.300878   \n",
      "4                  American Funds Bond Fund of Amer R4          0.300878   \n",
      "..                                                 ...               ...   \n",
      "445             Polar Capital Fut Healthcare A acc USD          0.309278   \n",
      "446  Invesco Funds - Invesco China Health Care Equi...          0.301260   \n",
      "447                  Candriam Equities L Biotechnology          0.350611   \n",
      "448           Bellevue (Lux) Bellevue Dgtl Hthl AI2USD          0.315960   \n",
      "449                      Sector Healthcare Value B USD          0.315388   \n",
      "\n",
      "     Change % Change  Volume Avg Vol (3 month) Market Cap  \n",
      "0    -0.45%    11.01   11.17             11.14     -0.84%  \n",
      "1    -0.45%    11.01   11.17             11.14     -0.76%  \n",
      "2    -0.45%    11.01   11.17             11.14     -0.88%  \n",
      "3    -0.45%    11.01   11.17             11.14     -0.79%  \n",
      "4    -0.45%    11.01   11.17             11.14     -0.82%  \n",
      "..      ...      ...     ...               ...        ...  \n",
      "445  +0.85%    96.93  100.68             93.09      9.32%  \n",
      "446  -0.23%   4.2800    4.22              4.52    -11.42%  \n",
      "447  +0.71%   728.37  765.35            718.69      2.78%  \n",
      "448  +1.18%   129.78  135.55            133.36      1.49%  \n",
      "449  +0.91%   162.39  167.81            165.17      3.27%  \n",
      "\n",
      "[450 rows x 7 columns]\n"
     ]
    }
   ],
   "source": [
    "from sklearn.preprocessing import MinMaxScaler\n",
    "\n",
    "# Initialize the MinMaxScaler\n",
    "scaler = MinMaxScaler()\n",
    "\n",
    "# Select the column you want to scale\n",
    "column_to_scale = ['Price (Intraday)']\n",
    "\n",
    "# Remove commas from the column\n",
    "df[column_to_scale] = df[column_to_scale].replace({',': ''}, regex=True)\n",
    "\n",
    "# Convert the column to float\n",
    "df[column_to_scale] = df[column_to_scale].astype(float)\n",
    "\n",
    "# Apply the scaler to the selected column\n",
    "df[column_to_scale] = scaler.fit_transform(df[column_to_scale])\n",
    "\n",
    "# Display the updated DataFrame\n",
    "print(df)\n"
   ]
  },
  {
   "cell_type": "code",
   "execution_count": 8,
   "id": "879692db",
   "metadata": {},
   "outputs": [],
   "source": [
    "def frequency_encoding(colName):\n",
    "        enc_Name = (df.groupby(colName).size())/len(df)\n",
    "        df['Name_encode']= df[colName].apply(lambda x : enc_Name[x])"
   ]
  },
  {
   "cell_type": "code",
   "execution_count": 9,
   "id": "de743798",
   "metadata": {},
   "outputs": [],
   "source": [
    "frequency_encoding(\"Name\")"
   ]
  },
  {
   "cell_type": "code",
   "execution_count": 10,
   "id": "4f565258",
   "metadata": {},
   "outputs": [
    {
     "name": "stdout",
     "output_type": "stream",
     "text": [
      "Unique values in 'Market Cap' before conversion:\n",
      "['-0.84%' '-0.76%' '-0.88%' '-0.79%' '-0.82%' '-0.75%' '-0.74%' '-1.02%'\n",
      " '-1.00%' '-0.93%' '-0.89%' '-0.83%' '-1.01%' '-0.77%' '5.07%' '5.08%'\n",
      " '8.32%' '7.95%' '7.98%' '8.75%' '8.65%' '8.57%' '8.46%' '8.69%' '8.78%'\n",
      " '6.82%' '-0.57%' '-0.32%' '-0.34%' '-0.28%' '-0.54%' '-0.25%' '-0.30%'\n",
      " '-0.22%' '9.05%' '8.47%' '8.53%' '8.56%' '8.52%' '6.71%' '6.52%' '6.65%'\n",
      " '6.58%' '6.39%' '10.54%' '8.60%' '0.75%' '0.76%' '0.62%' '0.85%' '0.88%'\n",
      " '0.81%' '-0.15%' '-0.23%' '0.04%' '-0.04%' '0.02%' '-0.11%' '1.28%'\n",
      " '1.51%' '1.46%' '1.50%' '1.47%' '1.40%' '1.53%' '8.20%' '8.30%' '-0.36%'\n",
      " '-0.47%' '-0.48%' '0.23%' '0.12%' '0.25%' '0.18%' '0.13%' '0.22%' '0.17%'\n",
      " '0.01%' '-0.08%' '0.06%' '0.07%' '-0.09%' '0.20%' '13.08%' '12.97%'\n",
      " '12.80%' '13.15%' '13.10%' '13.17%' '12.93%' '1.32%' '8.62%' '8.36%'\n",
      " '1.19%' '1.08%' '1.14%' '1.29%' '1.20%' '1.13%' '1.04%' '4.67%' '4.65%'\n",
      " '4.47%' '4.76%' nan '13.16%' '13.27%' '13.26%' '3.13%' '10.35%' '10.38%'\n",
      " '10.16%' '18.51%' '10.43%' '3.08%' '7.51%' '7.49%' '7.39%' '7.47%'\n",
      " '7.48%' '7.15%' '7.30%' '7.96%' '7.82%' '7.92%' '11.55%' '11.58%'\n",
      " '11.47%' '11.28%' '2.44%' '8.12%' '2.43%' '2.30%' '2.37%' '11.30%'\n",
      " '11.12%' '10.98%' '11.21%' '4.73%' '4.53%' '4.54%' '4.39%' '4.60%'\n",
      " '4.64%' '4.48%' '2.75%' '2.79%' '11.22%' '11.57%' '7.79%' '7.77%' '7.70%'\n",
      " '9.96%' '10.19%' '10.12%' '1.11%' '1.36%' '1.84%' '-0.26%' '2.82%'\n",
      " '2.67%' '2.49%' '2.84%' '-0.27%' '8.87%' '8.84%' '8.92%' '9.81%' '9.63%'\n",
      " '9.90%' '7.50%' '-0.06%' '6.83%' '9.29%' '9.46%' '9.13%' '7.57%' '0.55%'\n",
      " '0.73%' '0.80%' '-0.95%' '-0.78%' '6.99%' '5.10%' '18.06%' '18.43%'\n",
      " '3.95%' '3.82%' '1.16%' '1.60%' '7.13%' '7.19%' '7.11%' '6.93%' '7.02%'\n",
      " '11.91%' '12.18%' '9.40%' '9.53%' '1.34%' '1.52%' '5.64%' '5.78%' '5.50%'\n",
      " '-7.91%' '11.25%' '11.17%' '8.54%' '8.33%' '8.61%' '8.63%' '8.66%'\n",
      " '-10.14%' '-10.37%' '-10.62%' '-10.41%' '-13.40%' '-13.56%' '-15.26%'\n",
      " '4.75%' '4.46%' '-14.26%' '-14.06%' '-13.80%' '-13.79%' '2.04%' '2.03%'\n",
      " '1.74%' '6.05%' '5.68%' '5.85%' '4.29%' '5.30%' '5.84%' '5.88%' '6.11%'\n",
      " '5.98%' '3.41%' '0.14%' '13.68%' '0.84%' '7.04%' '2.12%' '11.61%' '0.59%'\n",
      " '1.07%' '0.09%' '9.55%' '0.87%' '7.81%' '7.83%' '4.27%' '-1.55%' '9.74%'\n",
      " '-0.65%' '-0.00%' '5.20%' '1.56%' '1.27%' '7.73%' '3.23%' '1.81%'\n",
      " '10.00%' '11.75%' '10.78%' '9.23%' '6.89%' '7.75%' '4.41%' '4.33%'\n",
      " '7.71%' '3.70%' '7.78%' '1.31%' '2.26%' '-1.12%' '9.52%' '3.76%' '8.48%'\n",
      " '7.22%' '2.78%' '7.65%' '-9.25%' '1.55%' '13.96%' '3.11%' '9.54%' '4.57%'\n",
      " '6.72%' '1.26%' '6.73%' '9.32%' '-11.42%' '1.49%' '3.27%']\n",
      "Unique values in 'Market Cap' after conversion:\n",
      "[-8.400e+05 -7.600e+05 -8.800e+05 -7.900e+05 -8.200e+05 -7.500e+05\n",
      " -7.400e+05 -1.020e+06 -1.000e+06 -9.300e+05 -8.900e+05 -8.300e+05\n",
      " -1.010e+06 -7.700e+05  5.070e+06  5.080e+06  8.320e+06  7.950e+06\n",
      "  7.980e+06  8.750e+06  8.650e+06  8.570e+06  8.460e+06  8.690e+06\n",
      "  8.780e+06  6.820e+06 -5.700e+05 -3.200e+05 -3.400e+05 -2.800e+05\n",
      " -5.400e+05 -2.500e+05 -3.000e+05 -2.200e+05  9.050e+06  8.470e+06\n",
      "  8.530e+06  8.560e+06  8.520e+06  6.710e+06  6.520e+06  6.650e+06\n",
      "  6.580e+06  6.390e+06  1.054e+07  8.600e+06  7.500e+05  7.600e+05\n",
      "  6.200e+05  8.500e+05  8.800e+05  8.100e+05 -1.500e+05 -2.300e+05\n",
      "  4.000e+04 -4.000e+04  2.000e+04 -1.100e+05  1.280e+06  1.510e+06\n",
      "  1.460e+06  1.500e+06  1.470e+06  1.400e+06  1.530e+06  8.200e+06\n",
      "  8.300e+06 -3.600e+05 -4.700e+05 -4.800e+05  2.300e+05  1.200e+05\n",
      "  2.500e+05  1.800e+05  1.300e+05  2.200e+05  1.700e+05  1.000e+04\n",
      " -8.000e+04  6.000e+04  7.000e+04 -9.000e+04  2.000e+05  1.308e+07\n",
      "  1.297e+07  1.280e+07  1.315e+07  1.310e+07  1.317e+07  1.293e+07\n",
      "  1.320e+06  8.620e+06  8.360e+06  1.190e+06  1.080e+06  1.140e+06\n",
      "  1.290e+06  1.200e+06  1.130e+06  1.040e+06  4.670e+06  4.650e+06\n",
      "  4.470e+06  4.760e+06        nan  1.316e+07  1.327e+07  1.326e+07\n",
      "  3.130e+06  1.035e+07  1.038e+07  1.016e+07  1.851e+07  1.043e+07\n",
      "  3.080e+06  7.510e+06  7.490e+06  7.390e+06  7.470e+06  7.480e+06\n",
      "  7.150e+06  7.300e+06  7.960e+06  7.820e+06  7.920e+06  1.155e+07\n",
      "  1.158e+07  1.147e+07  1.128e+07  2.440e+06  8.120e+06  2.430e+06\n",
      "  2.300e+06  2.370e+06  1.130e+07  1.112e+07  1.098e+07  1.121e+07\n",
      "  4.730e+06  4.530e+06  4.540e+06  4.390e+06  4.600e+06  4.640e+06\n",
      "  4.480e+06  2.750e+06  2.790e+06  1.122e+07  1.157e+07  7.790e+06\n",
      "  7.770e+06  7.700e+06  9.960e+06  1.019e+07  1.012e+07  1.110e+06\n",
      "  1.360e+06  1.840e+06 -2.600e+05  2.820e+06  2.670e+06  2.490e+06\n",
      "  2.840e+06 -2.700e+05  8.870e+06  8.840e+06  8.920e+06  9.810e+06\n",
      "  9.630e+06  9.900e+06  7.500e+06 -6.000e+04  6.830e+06  9.290e+06\n",
      "  9.460e+06  9.130e+06  7.570e+06  5.500e+05  7.300e+05  8.000e+05\n",
      " -9.500e+05 -7.800e+05  6.990e+06  5.100e+06  1.806e+07  1.843e+07\n",
      "  3.950e+06  3.820e+06  1.160e+06  1.600e+06  7.130e+06  7.190e+06\n",
      "  7.110e+06  6.930e+06  7.020e+06  1.191e+07  1.218e+07  9.400e+06\n",
      "  9.530e+06  1.340e+06  1.520e+06  5.640e+06  5.780e+06  5.500e+06\n",
      " -7.910e+06  1.125e+07  1.117e+07  8.540e+06  8.330e+06  8.610e+06\n",
      "  8.630e+06  8.660e+06 -1.014e+07 -1.037e+07 -1.062e+07 -1.041e+07\n",
      " -1.340e+07 -1.356e+07 -1.526e+07  4.750e+06  4.460e+06 -1.426e+07\n",
      " -1.406e+07 -1.380e+07 -1.379e+07  2.040e+06  2.030e+06  1.740e+06\n",
      "  6.050e+06  5.680e+06  5.850e+06  4.290e+06  5.300e+06  5.840e+06\n",
      "  5.880e+06  6.110e+06  5.980e+06  3.410e+06  1.400e+05  1.368e+07\n",
      "  8.400e+05  7.040e+06  2.120e+06  1.161e+07  5.900e+05  1.070e+06\n",
      "  9.000e+04  9.550e+06  8.700e+05  7.810e+06  7.830e+06  4.270e+06\n",
      " -1.550e+06  9.740e+06 -6.500e+05 -0.000e+00  5.200e+06  1.560e+06\n",
      "  1.270e+06  7.730e+06  3.230e+06  1.810e+06  1.000e+07  1.175e+07\n",
      "  1.078e+07  9.230e+06  6.890e+06  7.750e+06  4.410e+06  4.330e+06\n",
      "  7.710e+06  3.700e+06  7.780e+06  1.310e+06  2.260e+06 -1.120e+06\n",
      "  9.520e+06  3.760e+06  8.480e+06  7.220e+06  2.780e+06  7.650e+06\n",
      " -9.250e+06  1.550e+06  1.396e+07  3.110e+06  9.540e+06  4.570e+06\n",
      "  6.720e+06  1.260e+06  6.730e+06  9.320e+06 -1.142e+07  1.490e+06\n",
      "  3.270e+06]\n"
     ]
    }
   ],
   "source": [
    "# Print unique values in 'Market Cap' before conversion\n",
    "print(\"Unique values in 'Market Cap' before conversion:\")\n",
    "print(df['Market Cap'].unique())\n",
    "\n",
    "# Perform the conversion operations, handling percentage signs\n",
    "df['Market Cap'] = df['Market Cap'].str.rstrip('%').astype(str).str.replace(',', '').str.rstrip('BM').astype(float) * 1e6\n",
    "\n",
    "# Check unique values in 'Market Cap' after conversion\n",
    "print(\"Unique values in 'Market Cap' after conversion:\")\n",
    "print(df['Market Cap'].unique())\n"
   ]
  },
  {
   "cell_type": "code",
   "execution_count": 11,
   "id": "be532dc9",
   "metadata": {},
   "outputs": [],
   "source": [
    "df.drop(columns=['Name'], inplace=True)"
   ]
  },
  {
   "cell_type": "code",
   "execution_count": 12,
   "id": "4813a27e",
   "metadata": {},
   "outputs": [],
   "source": [
    "# Remove ',' and 'M' from 'Volume' column and convert to float\n",
    "df['Volume'] = df['Volume'].astype(str).str.replace(',', '').str.rstrip('M').astype(float) * 1e6"
   ]
  },
  {
   "cell_type": "code",
   "execution_count": 13,
   "id": "280e8242",
   "metadata": {},
   "outputs": [],
   "source": [
    "# Remove ',' from 'Avg Vol (3 month)' column and convert to float\n",
    "df['Avg Vol (3 month)'] = df['Avg Vol (3 month)'].astype(str).str.replace(',', '').str.rstrip('M').astype(float) * 1e6"
   ]
  },
  {
   "cell_type": "code",
   "execution_count": 14,
   "id": "c99f2f27",
   "metadata": {},
   "outputs": [
    {
     "data": {
      "text/html": [
       "<div>\n",
       "<style scoped>\n",
       "    .dataframe tbody tr th:only-of-type {\n",
       "        vertical-align: middle;\n",
       "    }\n",
       "\n",
       "    .dataframe tbody tr th {\n",
       "        vertical-align: top;\n",
       "    }\n",
       "\n",
       "    .dataframe thead th {\n",
       "        text-align: right;\n",
       "    }\n",
       "</style>\n",
       "<table border=\"1\" class=\"dataframe\">\n",
       "  <thead>\n",
       "    <tr style=\"text-align: right;\">\n",
       "      <th></th>\n",
       "      <th>Price (Intraday)</th>\n",
       "      <th>Change</th>\n",
       "      <th>% Change</th>\n",
       "      <th>Volume</th>\n",
       "      <th>Avg Vol (3 month)</th>\n",
       "      <th>Market Cap</th>\n",
       "      <th>Name_encode</th>\n",
       "    </tr>\n",
       "  </thead>\n",
       "  <tbody>\n",
       "    <tr>\n",
       "      <th>0</th>\n",
       "      <td>0.300878</td>\n",
       "      <td>-0.45%</td>\n",
       "      <td>11.01</td>\n",
       "      <td>11170000.0</td>\n",
       "      <td>11140000.0</td>\n",
       "      <td>-840000.0</td>\n",
       "      <td>0.002222</td>\n",
       "    </tr>\n",
       "    <tr>\n",
       "      <th>1</th>\n",
       "      <td>0.300878</td>\n",
       "      <td>-0.45%</td>\n",
       "      <td>11.01</td>\n",
       "      <td>11170000.0</td>\n",
       "      <td>11140000.0</td>\n",
       "      <td>-760000.0</td>\n",
       "      <td>0.002222</td>\n",
       "    </tr>\n",
       "    <tr>\n",
       "      <th>2</th>\n",
       "      <td>0.300878</td>\n",
       "      <td>-0.45%</td>\n",
       "      <td>11.01</td>\n",
       "      <td>11170000.0</td>\n",
       "      <td>11140000.0</td>\n",
       "      <td>-880000.0</td>\n",
       "      <td>0.002222</td>\n",
       "    </tr>\n",
       "    <tr>\n",
       "      <th>3</th>\n",
       "      <td>0.300878</td>\n",
       "      <td>-0.45%</td>\n",
       "      <td>11.01</td>\n",
       "      <td>11170000.0</td>\n",
       "      <td>11140000.0</td>\n",
       "      <td>-790000.0</td>\n",
       "      <td>0.002222</td>\n",
       "    </tr>\n",
       "    <tr>\n",
       "      <th>4</th>\n",
       "      <td>0.300878</td>\n",
       "      <td>-0.45%</td>\n",
       "      <td>11.01</td>\n",
       "      <td>11170000.0</td>\n",
       "      <td>11140000.0</td>\n",
       "      <td>-820000.0</td>\n",
       "      <td>0.002222</td>\n",
       "    </tr>\n",
       "    <tr>\n",
       "      <th>...</th>\n",
       "      <td>...</td>\n",
       "      <td>...</td>\n",
       "      <td>...</td>\n",
       "      <td>...</td>\n",
       "      <td>...</td>\n",
       "      <td>...</td>\n",
       "      <td>...</td>\n",
       "    </tr>\n",
       "    <tr>\n",
       "      <th>445</th>\n",
       "      <td>0.309278</td>\n",
       "      <td>+0.85%</td>\n",
       "      <td>96.93</td>\n",
       "      <td>100680000.0</td>\n",
       "      <td>93090000.0</td>\n",
       "      <td>9320000.0</td>\n",
       "      <td>0.002222</td>\n",
       "    </tr>\n",
       "    <tr>\n",
       "      <th>446</th>\n",
       "      <td>0.301260</td>\n",
       "      <td>-0.23%</td>\n",
       "      <td>4.2800</td>\n",
       "      <td>4220000.0</td>\n",
       "      <td>4520000.0</td>\n",
       "      <td>-11420000.0</td>\n",
       "      <td>0.002222</td>\n",
       "    </tr>\n",
       "    <tr>\n",
       "      <th>447</th>\n",
       "      <td>0.350611</td>\n",
       "      <td>+0.71%</td>\n",
       "      <td>728.37</td>\n",
       "      <td>765350000.0</td>\n",
       "      <td>718690000.0</td>\n",
       "      <td>2780000.0</td>\n",
       "      <td>0.004444</td>\n",
       "    </tr>\n",
       "    <tr>\n",
       "      <th>448</th>\n",
       "      <td>0.315960</td>\n",
       "      <td>+1.18%</td>\n",
       "      <td>129.78</td>\n",
       "      <td>135550000.0</td>\n",
       "      <td>133360000.0</td>\n",
       "      <td>1490000.0</td>\n",
       "      <td>0.002222</td>\n",
       "    </tr>\n",
       "    <tr>\n",
       "      <th>449</th>\n",
       "      <td>0.315388</td>\n",
       "      <td>+0.91%</td>\n",
       "      <td>162.39</td>\n",
       "      <td>167810000.0</td>\n",
       "      <td>165170000.0</td>\n",
       "      <td>3270000.0</td>\n",
       "      <td>0.002222</td>\n",
       "    </tr>\n",
       "  </tbody>\n",
       "</table>\n",
       "<p>450 rows × 7 columns</p>\n",
       "</div>"
      ],
      "text/plain": [
       "     Price (Intraday)  Change % Change       Volume  Avg Vol (3 month)  \\\n",
       "0            0.300878  -0.45%    11.01   11170000.0         11140000.0   \n",
       "1            0.300878  -0.45%    11.01   11170000.0         11140000.0   \n",
       "2            0.300878  -0.45%    11.01   11170000.0         11140000.0   \n",
       "3            0.300878  -0.45%    11.01   11170000.0         11140000.0   \n",
       "4            0.300878  -0.45%    11.01   11170000.0         11140000.0   \n",
       "..                ...     ...      ...          ...                ...   \n",
       "445          0.309278  +0.85%    96.93  100680000.0         93090000.0   \n",
       "446          0.301260  -0.23%   4.2800    4220000.0          4520000.0   \n",
       "447          0.350611  +0.71%   728.37  765350000.0        718690000.0   \n",
       "448          0.315960  +1.18%   129.78  135550000.0        133360000.0   \n",
       "449          0.315388  +0.91%   162.39  167810000.0        165170000.0   \n",
       "\n",
       "     Market Cap  Name_encode  \n",
       "0     -840000.0     0.002222  \n",
       "1     -760000.0     0.002222  \n",
       "2     -880000.0     0.002222  \n",
       "3     -790000.0     0.002222  \n",
       "4     -820000.0     0.002222  \n",
       "..          ...          ...  \n",
       "445   9320000.0     0.002222  \n",
       "446 -11420000.0     0.002222  \n",
       "447   2780000.0     0.004444  \n",
       "448   1490000.0     0.002222  \n",
       "449   3270000.0     0.002222  \n",
       "\n",
       "[450 rows x 7 columns]"
      ]
     },
     "execution_count": 14,
     "metadata": {},
     "output_type": "execute_result"
    }
   ],
   "source": [
    "df"
   ]
  },
  {
   "cell_type": "markdown",
   "id": "7625938b",
   "metadata": {},
   "source": [
    "# Scaling"
   ]
  },
  {
   "cell_type": "code",
   "execution_count": 15,
   "id": "c0922003",
   "metadata": {},
   "outputs": [],
   "source": [
    "df.drop(columns=['Change'], inplace=True)"
   ]
  },
  {
   "cell_type": "code",
   "execution_count": 16,
   "id": "00cbb2b5",
   "metadata": {},
   "outputs": [
    {
     "name": "stdout",
     "output_type": "stream",
     "text": [
      "     Price (Intraday)  % Change    Volume  Avg Vol (3 month)  Market Cap  \\\n",
      "0            0.300878  0.001304  0.001315           0.001196    0.427006   \n",
      "1            0.300878  0.001304  0.001315           0.001196    0.429375   \n",
      "2            0.300878  0.001304  0.001315           0.001196    0.425822   \n",
      "3            0.300878  0.001304  0.001315           0.001196    0.428487   \n",
      "4            0.300878  0.001304  0.001315           0.001196    0.427598   \n",
      "..                ...       ...       ...                ...         ...   \n",
      "445          0.309278  0.012323  0.012728           0.010718    0.727865   \n",
      "446          0.301260  0.000441  0.000428           0.000426    0.113710   \n",
      "447          0.350611  0.093304  0.097477           0.083409    0.534202   \n",
      "448          0.315960  0.016536  0.017174           0.015397    0.496002   \n",
      "449          0.315388  0.020718  0.021287           0.019093    0.548712   \n",
      "\n",
      "     Name_encode  \n",
      "0       0.002222  \n",
      "1       0.002222  \n",
      "2       0.002222  \n",
      "3       0.002222  \n",
      "4       0.002222  \n",
      "..           ...  \n",
      "445     0.002222  \n",
      "446     0.002222  \n",
      "447     0.004444  \n",
      "448     0.002222  \n",
      "449     0.002222  \n",
      "\n",
      "[450 rows x 6 columns]\n"
     ]
    }
   ],
   "source": [
    "from sklearn.preprocessing import MinMaxScaler\n",
    "import pandas as pd\n",
    "\n",
    "# Initialize the MinMaxScaler\n",
    "scaler = MinMaxScaler()\n",
    "\n",
    "# Select only the numerical columns you want to scale\n",
    "numerical_columns = ['Price (Intraday)', '% Change', 'Volume', 'Avg Vol (3 month)', 'Market Cap']\n",
    "\n",
    "# Remove commas from all numerical columns\n",
    "df[numerical_columns] = df[numerical_columns].replace({',': ''}, regex=True)\n",
    "\n",
    "# Convert all numerical columns to float\n",
    "df[numerical_columns] = df[numerical_columns].astype(float)\n",
    "\n",
    "# Apply the scaler to the selected columns\n",
    "df[numerical_columns] = scaler.fit_transform(df[numerical_columns])\n",
    "\n",
    "# Display the updated DataFrame\n",
    "print(df)\n"
   ]
  },
  {
   "cell_type": "code",
   "execution_count": 17,
   "id": "6d28aa05",
   "metadata": {},
   "outputs": [
    {
     "data": {
      "text/html": [
       "<div>\n",
       "<style scoped>\n",
       "    .dataframe tbody tr th:only-of-type {\n",
       "        vertical-align: middle;\n",
       "    }\n",
       "\n",
       "    .dataframe tbody tr th {\n",
       "        vertical-align: top;\n",
       "    }\n",
       "\n",
       "    .dataframe thead th {\n",
       "        text-align: right;\n",
       "    }\n",
       "</style>\n",
       "<table border=\"1\" class=\"dataframe\">\n",
       "  <thead>\n",
       "    <tr style=\"text-align: right;\">\n",
       "      <th></th>\n",
       "      <th>Price (Intraday)</th>\n",
       "      <th>% Change</th>\n",
       "      <th>Volume</th>\n",
       "      <th>Avg Vol (3 month)</th>\n",
       "      <th>Market Cap</th>\n",
       "      <th>Name_encode</th>\n",
       "    </tr>\n",
       "  </thead>\n",
       "  <tbody>\n",
       "    <tr>\n",
       "      <th>0</th>\n",
       "      <td>0.300878</td>\n",
       "      <td>0.001304</td>\n",
       "      <td>0.001315</td>\n",
       "      <td>0.001196</td>\n",
       "      <td>0.427006</td>\n",
       "      <td>0.002222</td>\n",
       "    </tr>\n",
       "    <tr>\n",
       "      <th>1</th>\n",
       "      <td>0.300878</td>\n",
       "      <td>0.001304</td>\n",
       "      <td>0.001315</td>\n",
       "      <td>0.001196</td>\n",
       "      <td>0.429375</td>\n",
       "      <td>0.002222</td>\n",
       "    </tr>\n",
       "    <tr>\n",
       "      <th>2</th>\n",
       "      <td>0.300878</td>\n",
       "      <td>0.001304</td>\n",
       "      <td>0.001315</td>\n",
       "      <td>0.001196</td>\n",
       "      <td>0.425822</td>\n",
       "      <td>0.002222</td>\n",
       "    </tr>\n",
       "    <tr>\n",
       "      <th>3</th>\n",
       "      <td>0.300878</td>\n",
       "      <td>0.001304</td>\n",
       "      <td>0.001315</td>\n",
       "      <td>0.001196</td>\n",
       "      <td>0.428487</td>\n",
       "      <td>0.002222</td>\n",
       "    </tr>\n",
       "    <tr>\n",
       "      <th>4</th>\n",
       "      <td>0.300878</td>\n",
       "      <td>0.001304</td>\n",
       "      <td>0.001315</td>\n",
       "      <td>0.001196</td>\n",
       "      <td>0.427598</td>\n",
       "      <td>0.002222</td>\n",
       "    </tr>\n",
       "    <tr>\n",
       "      <th>...</th>\n",
       "      <td>...</td>\n",
       "      <td>...</td>\n",
       "      <td>...</td>\n",
       "      <td>...</td>\n",
       "      <td>...</td>\n",
       "      <td>...</td>\n",
       "    </tr>\n",
       "    <tr>\n",
       "      <th>445</th>\n",
       "      <td>0.309278</td>\n",
       "      <td>0.012323</td>\n",
       "      <td>0.012728</td>\n",
       "      <td>0.010718</td>\n",
       "      <td>0.727865</td>\n",
       "      <td>0.002222</td>\n",
       "    </tr>\n",
       "    <tr>\n",
       "      <th>446</th>\n",
       "      <td>0.301260</td>\n",
       "      <td>0.000441</td>\n",
       "      <td>0.000428</td>\n",
       "      <td>0.000426</td>\n",
       "      <td>0.113710</td>\n",
       "      <td>0.002222</td>\n",
       "    </tr>\n",
       "    <tr>\n",
       "      <th>447</th>\n",
       "      <td>0.350611</td>\n",
       "      <td>0.093304</td>\n",
       "      <td>0.097477</td>\n",
       "      <td>0.083409</td>\n",
       "      <td>0.534202</td>\n",
       "      <td>0.004444</td>\n",
       "    </tr>\n",
       "    <tr>\n",
       "      <th>448</th>\n",
       "      <td>0.315960</td>\n",
       "      <td>0.016536</td>\n",
       "      <td>0.017174</td>\n",
       "      <td>0.015397</td>\n",
       "      <td>0.496002</td>\n",
       "      <td>0.002222</td>\n",
       "    </tr>\n",
       "    <tr>\n",
       "      <th>449</th>\n",
       "      <td>0.315388</td>\n",
       "      <td>0.020718</td>\n",
       "      <td>0.021287</td>\n",
       "      <td>0.019093</td>\n",
       "      <td>0.548712</td>\n",
       "      <td>0.002222</td>\n",
       "    </tr>\n",
       "  </tbody>\n",
       "</table>\n",
       "<p>450 rows × 6 columns</p>\n",
       "</div>"
      ],
      "text/plain": [
       "     Price (Intraday)  % Change    Volume  Avg Vol (3 month)  Market Cap  \\\n",
       "0            0.300878  0.001304  0.001315           0.001196    0.427006   \n",
       "1            0.300878  0.001304  0.001315           0.001196    0.429375   \n",
       "2            0.300878  0.001304  0.001315           0.001196    0.425822   \n",
       "3            0.300878  0.001304  0.001315           0.001196    0.428487   \n",
       "4            0.300878  0.001304  0.001315           0.001196    0.427598   \n",
       "..                ...       ...       ...                ...         ...   \n",
       "445          0.309278  0.012323  0.012728           0.010718    0.727865   \n",
       "446          0.301260  0.000441  0.000428           0.000426    0.113710   \n",
       "447          0.350611  0.093304  0.097477           0.083409    0.534202   \n",
       "448          0.315960  0.016536  0.017174           0.015397    0.496002   \n",
       "449          0.315388  0.020718  0.021287           0.019093    0.548712   \n",
       "\n",
       "     Name_encode  \n",
       "0       0.002222  \n",
       "1       0.002222  \n",
       "2       0.002222  \n",
       "3       0.002222  \n",
       "4       0.002222  \n",
       "..           ...  \n",
       "445     0.002222  \n",
       "446     0.002222  \n",
       "447     0.004444  \n",
       "448     0.002222  \n",
       "449     0.002222  \n",
       "\n",
       "[450 rows x 6 columns]"
      ]
     },
     "execution_count": 17,
     "metadata": {},
     "output_type": "execute_result"
    }
   ],
   "source": [
    "df"
   ]
  },
  {
   "cell_type": "markdown",
   "id": "09f4d162",
   "metadata": {},
   "source": [
    "# Clustering"
   ]
  },
  {
   "cell_type": "code",
   "execution_count": 18,
   "id": "c3587b04",
   "metadata": {},
   "outputs": [
    {
     "name": "stderr",
     "output_type": "stream",
     "text": [
      "C:\\Users\\Kashish\\anaconda3\\Lib\\site-packages\\sklearn\\cluster\\_kmeans.py:1412: FutureWarning: The default value of `n_init` will change from 10 to 'auto' in 1.4. Set the value of `n_init` explicitly to suppress the warning\n",
      "  super()._check_params_vs_input(X, default_n_init=10)\n",
      "C:\\Users\\Kashish\\anaconda3\\Lib\\site-packages\\sklearn\\cluster\\_kmeans.py:1436: UserWarning: KMeans is known to have a memory leak on Windows with MKL, when there are less chunks than available threads. You can avoid it by setting the environment variable OMP_NUM_THREADS=2.\n",
      "  warnings.warn(\n",
      "C:\\Users\\Kashish\\anaconda3\\Lib\\site-packages\\sklearn\\cluster\\_kmeans.py:1412: FutureWarning: The default value of `n_init` will change from 10 to 'auto' in 1.4. Set the value of `n_init` explicitly to suppress the warning\n",
      "  super()._check_params_vs_input(X, default_n_init=10)\n",
      "C:\\Users\\Kashish\\anaconda3\\Lib\\site-packages\\sklearn\\cluster\\_kmeans.py:1436: UserWarning: KMeans is known to have a memory leak on Windows with MKL, when there are less chunks than available threads. You can avoid it by setting the environment variable OMP_NUM_THREADS=2.\n",
      "  warnings.warn(\n",
      "C:\\Users\\Kashish\\anaconda3\\Lib\\site-packages\\sklearn\\cluster\\_kmeans.py:1412: FutureWarning: The default value of `n_init` will change from 10 to 'auto' in 1.4. Set the value of `n_init` explicitly to suppress the warning\n",
      "  super()._check_params_vs_input(X, default_n_init=10)\n",
      "C:\\Users\\Kashish\\anaconda3\\Lib\\site-packages\\sklearn\\cluster\\_kmeans.py:1436: UserWarning: KMeans is known to have a memory leak on Windows with MKL, when there are less chunks than available threads. You can avoid it by setting the environment variable OMP_NUM_THREADS=2.\n",
      "  warnings.warn(\n",
      "C:\\Users\\Kashish\\anaconda3\\Lib\\site-packages\\sklearn\\cluster\\_kmeans.py:1412: FutureWarning: The default value of `n_init` will change from 10 to 'auto' in 1.4. Set the value of `n_init` explicitly to suppress the warning\n",
      "  super()._check_params_vs_input(X, default_n_init=10)\n",
      "C:\\Users\\Kashish\\anaconda3\\Lib\\site-packages\\sklearn\\cluster\\_kmeans.py:1436: UserWarning: KMeans is known to have a memory leak on Windows with MKL, when there are less chunks than available threads. You can avoid it by setting the environment variable OMP_NUM_THREADS=2.\n",
      "  warnings.warn(\n",
      "C:\\Users\\Kashish\\anaconda3\\Lib\\site-packages\\sklearn\\cluster\\_kmeans.py:1412: FutureWarning: The default value of `n_init` will change from 10 to 'auto' in 1.4. Set the value of `n_init` explicitly to suppress the warning\n",
      "  super()._check_params_vs_input(X, default_n_init=10)\n",
      "C:\\Users\\Kashish\\anaconda3\\Lib\\site-packages\\sklearn\\cluster\\_kmeans.py:1436: UserWarning: KMeans is known to have a memory leak on Windows with MKL, when there are less chunks than available threads. You can avoid it by setting the environment variable OMP_NUM_THREADS=2.\n",
      "  warnings.warn(\n",
      "C:\\Users\\Kashish\\anaconda3\\Lib\\site-packages\\sklearn\\cluster\\_kmeans.py:1412: FutureWarning: The default value of `n_init` will change from 10 to 'auto' in 1.4. Set the value of `n_init` explicitly to suppress the warning\n",
      "  super()._check_params_vs_input(X, default_n_init=10)\n",
      "C:\\Users\\Kashish\\anaconda3\\Lib\\site-packages\\sklearn\\cluster\\_kmeans.py:1436: UserWarning: KMeans is known to have a memory leak on Windows with MKL, when there are less chunks than available threads. You can avoid it by setting the environment variable OMP_NUM_THREADS=2.\n",
      "  warnings.warn(\n",
      "C:\\Users\\Kashish\\anaconda3\\Lib\\site-packages\\sklearn\\cluster\\_kmeans.py:1412: FutureWarning: The default value of `n_init` will change from 10 to 'auto' in 1.4. Set the value of `n_init` explicitly to suppress the warning\n",
      "  super()._check_params_vs_input(X, default_n_init=10)\n",
      "C:\\Users\\Kashish\\anaconda3\\Lib\\site-packages\\sklearn\\cluster\\_kmeans.py:1436: UserWarning: KMeans is known to have a memory leak on Windows with MKL, when there are less chunks than available threads. You can avoid it by setting the environment variable OMP_NUM_THREADS=2.\n",
      "  warnings.warn(\n",
      "C:\\Users\\Kashish\\anaconda3\\Lib\\site-packages\\sklearn\\cluster\\_kmeans.py:1412: FutureWarning: The default value of `n_init` will change from 10 to 'auto' in 1.4. Set the value of `n_init` explicitly to suppress the warning\n",
      "  super()._check_params_vs_input(X, default_n_init=10)\n",
      "C:\\Users\\Kashish\\anaconda3\\Lib\\site-packages\\sklearn\\cluster\\_kmeans.py:1436: UserWarning: KMeans is known to have a memory leak on Windows with MKL, when there are less chunks than available threads. You can avoid it by setting the environment variable OMP_NUM_THREADS=2.\n",
      "  warnings.warn(\n",
      "C:\\Users\\Kashish\\anaconda3\\Lib\\site-packages\\sklearn\\cluster\\_kmeans.py:1412: FutureWarning: The default value of `n_init` will change from 10 to 'auto' in 1.4. Set the value of `n_init` explicitly to suppress the warning\n",
      "  super()._check_params_vs_input(X, default_n_init=10)\n",
      "C:\\Users\\Kashish\\anaconda3\\Lib\\site-packages\\sklearn\\cluster\\_kmeans.py:1436: UserWarning: KMeans is known to have a memory leak on Windows with MKL, when there are less chunks than available threads. You can avoid it by setting the environment variable OMP_NUM_THREADS=2.\n",
      "  warnings.warn(\n",
      "C:\\Users\\Kashish\\anaconda3\\Lib\\site-packages\\sklearn\\cluster\\_kmeans.py:1412: FutureWarning: The default value of `n_init` will change from 10 to 'auto' in 1.4. Set the value of `n_init` explicitly to suppress the warning\n",
      "  super()._check_params_vs_input(X, default_n_init=10)\n",
      "C:\\Users\\Kashish\\anaconda3\\Lib\\site-packages\\sklearn\\cluster\\_kmeans.py:1436: UserWarning: KMeans is known to have a memory leak on Windows with MKL, when there are less chunks than available threads. You can avoid it by setting the environment variable OMP_NUM_THREADS=2.\n",
      "  warnings.warn(\n"
     ]
    },
    {
     "data": {
      "image/png": "[encoded data removed]",
      "text/plain": [
       "<Figure size 640x480 with 1 Axes>"
      ]
     },
     "metadata": {},
     "output_type": "display_data"
    }
   ],
   "source": [
    "from sklearn.impute import SimpleImputer\n",
    "from sklearn.cluster import KMeans\n",
    "import matplotlib.pyplot as plt\n",
    "\n",
    "# Select the relevant columns for clustering\n",
    "cols_to_cluster = ['Price (Intraday)', 'Volume', 'Avg Vol (3 month)', 'Market Cap']\n",
    "data_for_clustering = df[cols_to_cluster]\n",
    "\n",
    "# Impute NaN values with the mean of each column\n",
    "imputer = SimpleImputer(strategy='mean')\n",
    "data_for_clustering_imputed = imputer.fit_transform(data_for_clustering)\n",
    "\n",
    "# Determine the optimal number of clusters using the elbow method\n",
    "inertia = []\n",
    "for i in range(1, 11):\n",
    "    kmeans = KMeans(n_clusters=i, init='k-means++', random_state=42)\n",
    "    kmeans.fit(data_for_clustering_imputed)\n",
    "    inertia.append(kmeans.inertia_)\n",
    "\n",
    "# Plot the elbow curve\n",
    "plt.plot(range(1, 11), inertia, marker='o', linestyle='--')\n",
    "plt.title('Elbow Method')\n",
    "plt.xlabel('Number of Clusters')\n",
    "plt.ylabel('Inertia')\n",
    "plt.show()\n"
   ]
  },
  {
   "cell_type": "code",
   "execution_count": 19,
   "id": "7e28515e",
   "metadata": {},
   "outputs": [
    {
     "name": "stderr",
     "output_type": "stream",
     "text": [
      "C:\\Users\\Kashish\\anaconda3\\Lib\\site-packages\\sklearn\\cluster\\_kmeans.py:1412: FutureWarning: The default value of `n_init` will change from 10 to 'auto' in 1.4. Set the value of `n_init` explicitly to suppress the warning\n",
      "  super()._check_params_vs_input(X, default_n_init=10)\n",
      "C:\\Users\\Kashish\\anaconda3\\Lib\\site-packages\\sklearn\\cluster\\_kmeans.py:1436: UserWarning: KMeans is known to have a memory leak on Windows with MKL, when there are less chunks than available threads. You can avoid it by setting the environment variable OMP_NUM_THREADS=2.\n",
      "  warnings.warn(\n"
     ]
    },
    {
     "name": "stdout",
     "output_type": "stream",
     "text": [
      "Cluster Centers:\n",
      "   Price (Intraday)    Volume  Avg Vol (3 month)  Market Cap\n",
      "0          0.307318  0.021013           0.018255     0.57772\n"
     ]
    },
    {
     "data": {
      "image/png": "[encoded data removed]",
      "text/plain": [
       "<Figure size 640x480 with 1 Axes>"
      ]
     },
     "metadata": {},
     "output_type": "display_data"
    }
   ],
   "source": [
    "# Perform k-means clustering\n",
    "kmeans = KMeans(n_clusters=4, init='k-means++', random_state=42)\n",
    "kmeans.fit(data_for_clustering_imputed)\n",
    "\n",
    "# Add cluster labels to the original DataFrame\n",
    "df['Cluster'] = kmeans.labels_\n",
    "\n",
    "# Display the cluster centers\n",
    "cluster_centers = pd.DataFrame(\n",
    "    imputer.statistics_.reshape(1, -1),  # Using imputer.statistics_ instead of inverse_transform\n",
    "    columns=cols_to_cluster\n",
    ")\n",
    "print(\"Cluster Centers:\")\n",
    "print(cluster_centers)\n",
    "\n",
    "# Visualize the clusters (for 2D data)\n",
    "# Assuming you want to visualize the 'Price' and 'Volume' columns\n",
    "plt.scatter(df['Price (Intraday)'], df['Volume'], c=df['Cluster'], cmap='viridis')\n",
    "plt.xlabel('Price (Intraday)')\n",
    "plt.ylabel('Volume')\n",
    "plt.title('K-means Clustering')\n",
    "plt.show()\n"
   ]
  },
  {
   "cell_type": "code",
   "execution_count": 20,
   "id": "c00ea2ae",
   "metadata": {},
   "outputs": [
    {
     "data": {
      "text/html": [
       "<div>\n",
       "<style scoped>\n",
       "    .dataframe tbody tr th:only-of-type {\n",
       "        vertical-align: middle;\n",
       "    }\n",
       "\n",
       "    .dataframe tbody tr th {\n",
       "        vertical-align: top;\n",
       "    }\n",
       "\n",
       "    .dataframe thead th {\n",
       "        text-align: right;\n",
       "    }\n",
       "</style>\n",
       "<table border=\"1\" class=\"dataframe\">\n",
       "  <thead>\n",
       "    <tr style=\"text-align: right;\">\n",
       "      <th></th>\n",
       "      <th>Price (Intraday)</th>\n",
       "      <th>% Change</th>\n",
       "      <th>Volume</th>\n",
       "      <th>Avg Vol (3 month)</th>\n",
       "      <th>Market Cap</th>\n",
       "      <th>Name_encode</th>\n",
       "      <th>Cluster</th>\n",
       "    </tr>\n",
       "  </thead>\n",
       "  <tbody>\n",
       "    <tr>\n",
       "      <th>0</th>\n",
       "      <td>0.300878</td>\n",
       "      <td>0.001304</td>\n",
       "      <td>0.001315</td>\n",
       "      <td>0.001196</td>\n",
       "      <td>0.427006</td>\n",
       "      <td>0.002222</td>\n",
       "      <td>0</td>\n",
       "    </tr>\n",
       "    <tr>\n",
       "      <th>1</th>\n",
       "      <td>0.300878</td>\n",
       "      <td>0.001304</td>\n",
       "      <td>0.001315</td>\n",
       "      <td>0.001196</td>\n",
       "      <td>0.429375</td>\n",
       "      <td>0.002222</td>\n",
       "      <td>0</td>\n",
       "    </tr>\n",
       "    <tr>\n",
       "      <th>2</th>\n",
       "      <td>0.300878</td>\n",
       "      <td>0.001304</td>\n",
       "      <td>0.001315</td>\n",
       "      <td>0.001196</td>\n",
       "      <td>0.425822</td>\n",
       "      <td>0.002222</td>\n",
       "      <td>0</td>\n",
       "    </tr>\n",
       "    <tr>\n",
       "      <th>3</th>\n",
       "      <td>0.300878</td>\n",
       "      <td>0.001304</td>\n",
       "      <td>0.001315</td>\n",
       "      <td>0.001196</td>\n",
       "      <td>0.428487</td>\n",
       "      <td>0.002222</td>\n",
       "      <td>0</td>\n",
       "    </tr>\n",
       "    <tr>\n",
       "      <th>4</th>\n",
       "      <td>0.300878</td>\n",
       "      <td>0.001304</td>\n",
       "      <td>0.001315</td>\n",
       "      <td>0.001196</td>\n",
       "      <td>0.427598</td>\n",
       "      <td>0.002222</td>\n",
       "      <td>0</td>\n",
       "    </tr>\n",
       "    <tr>\n",
       "      <th>...</th>\n",
       "      <td>...</td>\n",
       "      <td>...</td>\n",
       "      <td>...</td>\n",
       "      <td>...</td>\n",
       "      <td>...</td>\n",
       "      <td>...</td>\n",
       "      <td>...</td>\n",
       "    </tr>\n",
       "    <tr>\n",
       "      <th>445</th>\n",
       "      <td>0.309278</td>\n",
       "      <td>0.012323</td>\n",
       "      <td>0.012728</td>\n",
       "      <td>0.010718</td>\n",
       "      <td>0.727865</td>\n",
       "      <td>0.002222</td>\n",
       "      <td>1</td>\n",
       "    </tr>\n",
       "    <tr>\n",
       "      <th>446</th>\n",
       "      <td>0.301260</td>\n",
       "      <td>0.000441</td>\n",
       "      <td>0.000428</td>\n",
       "      <td>0.000426</td>\n",
       "      <td>0.113710</td>\n",
       "      <td>0.002222</td>\n",
       "      <td>3</td>\n",
       "    </tr>\n",
       "    <tr>\n",
       "      <th>447</th>\n",
       "      <td>0.350611</td>\n",
       "      <td>0.093304</td>\n",
       "      <td>0.097477</td>\n",
       "      <td>0.083409</td>\n",
       "      <td>0.534202</td>\n",
       "      <td>0.004444</td>\n",
       "      <td>0</td>\n",
       "    </tr>\n",
       "    <tr>\n",
       "      <th>448</th>\n",
       "      <td>0.315960</td>\n",
       "      <td>0.016536</td>\n",
       "      <td>0.017174</td>\n",
       "      <td>0.015397</td>\n",
       "      <td>0.496002</td>\n",
       "      <td>0.002222</td>\n",
       "      <td>0</td>\n",
       "    </tr>\n",
       "    <tr>\n",
       "      <th>449</th>\n",
       "      <td>0.315388</td>\n",
       "      <td>0.020718</td>\n",
       "      <td>0.021287</td>\n",
       "      <td>0.019093</td>\n",
       "      <td>0.548712</td>\n",
       "      <td>0.002222</td>\n",
       "      <td>0</td>\n",
       "    </tr>\n",
       "  </tbody>\n",
       "</table>\n",
       "<p>450 rows × 7 columns</p>\n",
       "</div>"
      ],
      "text/plain": [
       "     Price (Intraday)  % Change    Volume  Avg Vol (3 month)  Market Cap  \\\n",
       "0            0.300878  0.001304  0.001315           0.001196    0.427006   \n",
       "1            0.300878  0.001304  0.001315           0.001196    0.429375   \n",
       "2            0.300878  0.001304  0.001315           0.001196    0.425822   \n",
       "3            0.300878  0.001304  0.001315           0.001196    0.428487   \n",
       "4            0.300878  0.001304  0.001315           0.001196    0.427598   \n",
       "..                ...       ...       ...                ...         ...   \n",
       "445          0.309278  0.012323  0.012728           0.010718    0.727865   \n",
       "446          0.301260  0.000441  0.000428           0.000426    0.113710   \n",
       "447          0.350611  0.093304  0.097477           0.083409    0.534202   \n",
       "448          0.315960  0.016536  0.017174           0.015397    0.496002   \n",
       "449          0.315388  0.020718  0.021287           0.019093    0.548712   \n",
       "\n",
       "     Name_encode  Cluster  \n",
       "0       0.002222        0  \n",
       "1       0.002222        0  \n",
       "2       0.002222        0  \n",
       "3       0.002222        0  \n",
       "4       0.002222        0  \n",
       "..           ...      ...  \n",
       "445     0.002222        1  \n",
       "446     0.002222        3  \n",
       "447     0.004444        0  \n",
       "448     0.002222        0  \n",
       "449     0.002222        0  \n",
       "\n",
       "[450 rows x 7 columns]"
      ]
     },
     "execution_count": 20,
     "metadata": {},
     "output_type": "execute_result"
    }
   ],
   "source": [
    "df"
   ]
  },
  {
   "cell_type": "markdown",
   "id": "b5e213db",
   "metadata": {},
   "source": [
    "# KNN"
   ]
  },
  {
   "cell_type": "raw",
   "id": "250d686b",
   "metadata": {},
   "source": [
    "1. KNN is a simple and intuitive classification algorithm that works by finding the K nearest data points in the training set to a given test point and then assigns the label of the majority class among those K neighbors.\n",
    "2. It's a non-parametric algorithm, meaning it doesn't make any assumptions about the underlying data distribution.\n",
    "3. KNN's performance heavily depends on the choice of K and the distance metric used to measure the similarity between data points."
   ]
  },
  {
   "cell_type": "code",
   "execution_count": 21,
   "id": "4173e573",
   "metadata": {},
   "outputs": [],
   "source": [
    "from sklearn.impute import SimpleImputer\n",
    "from sklearn.model_selection import train_test_split\n",
    "from sklearn.neighbors import KNeighborsClassifier\n",
    "from sklearn.metrics import accuracy_score, classification_report"
   ]
  },
  {
   "cell_type": "code",
   "execution_count": 22,
   "id": "4ada77d9",
   "metadata": {},
   "outputs": [],
   "source": [
    "X = df.drop('Cluster', axis=1)\n",
    "y = df['Cluster']\n",
    "\n",
    "# Impute missing values in X\n",
    "imputer = SimpleImputer(strategy='mean')\n",
    "X_imputed = imputer.fit_transform(X)\n",
    "\n",
    "# Split the data into training and testing sets\n",
    "X_train, X_test, y_train, y_test = train_test_split(X_imputed, y, test_size=0.2, random_state=42)\n"
   ]
  },
  {
   "cell_type": "code",
   "execution_count": 23,
   "id": "35a88862",
   "metadata": {},
   "outputs": [
    {
     "name": "stderr",
     "output_type": "stream",
     "text": [
      "C:\\Users\\Kashish\\anaconda3\\Lib\\site-packages\\sklearn\\model_selection\\_split.py:725: UserWarning: The least populated class in y has only 4 members, which is less than n_splits=5.\n",
      "  warnings.warn(\n"
     ]
    },
    {
     "data": {
      "text/html": [
       "<style>#sk-container-id-1 {color: black;}#sk-container-id-1 pre{padding: 0;}#sk-container-id-1 div.sk-toggleable {background-color: white;}#sk-container-id-1 label.sk-toggleable__label {cursor: pointer;display: block;width: 100%;margin-bottom: 0;padding: 0.3em;box-sizing: border-box;text-align: center;}#sk-container-id-1 label.sk-toggleable__label-arrow:before {content: \"▸\";float: left;margin-right: 0.25em;color: #696969;}#sk-container-id-1 label.sk-toggleable__label-arrow:hover:before {color: black;}#sk-container-id-1 div.sk-estimator:hover label.sk-toggleable__label-arrow:before {color: black;}#sk-container-id-1 div.sk-toggleable__content {max-height: 0;max-width: 0;overflow: hidden;text-align: left;background-color: #f0f8ff;}#sk-container-id-1 div.sk-toggleable__content pre {margin: 0.2em;color: black;border-radius: 0.25em;background-color: #f0f8ff;}#sk-container-id-1 input.sk-toggleable__control:checked~div.sk-toggleable__content {max-height: 200px;max-width: 100%;overflow: auto;}#sk-container-id-1 input.sk-toggleable__control:checked~label.sk-toggleable__label-arrow:before {content: \"▾\";}#sk-container-id-1 div.sk-estimator input.sk-toggleable__control:checked~label.sk-toggleable__label {background-color: #d4ebff;}#sk-container-id-1 div.sk-label input.sk-toggleable__control:checked~label.sk-toggleable__label {background-color: #d4ebff;}#sk-container-id-1 input.sk-hidden--visually {border: 0;clip: rect(1px 1px 1px 1px);clip: rect(1px, 1px, 1px, 1px);height: 1px;margin: -1px;overflow: hidden;padding: 0;position: absolute;width: 1px;}#sk-container-id-1 div.sk-estimator {font-family: monospace;background-color: #f0f8ff;border: 1px dotted black;border-radius: 0.25em;box-sizing: border-box;margin-bottom: 0.5em;}#sk-container-id-1 div.sk-estimator:hover {background-color: #d4ebff;}#sk-container-id-1 div.sk-parallel-item::after {content: \"\";width: 100%;border-bottom: 1px solid gray;flex-grow: 1;}#sk-container-id-1 div.sk-label:hover label.sk-toggleable__label {background-color: #d4ebff;}#sk-container-id-1 div.sk-serial::before {content: \"\";position: absolute;border-left: 1px solid gray;box-sizing: border-box;top: 0;bottom: 0;left: 50%;z-index: 0;}#sk-container-id-1 div.sk-serial {display: flex;flex-direction: column;align-items: center;background-color: white;padding-right: 0.2em;padding-left: 0.2em;position: relative;}#sk-container-id-1 div.sk-item {position: relative;z-index: 1;}#sk-container-id-1 div.sk-parallel {display: flex;align-items: stretch;justify-content: center;background-color: white;position: relative;}#sk-container-id-1 div.sk-item::before, #sk-container-id-1 div.sk-parallel-item::before {content: \"\";position: absolute;border-left: 1px solid gray;box-sizing: border-box;top: 0;bottom: 0;left: 50%;z-index: -1;}#sk-container-id-1 div.sk-parallel-item {display: flex;flex-direction: column;z-index: 1;position: relative;background-color: white;}#sk-container-id-1 div.sk-parallel-item:first-child::after {align-self: flex-end;width: 50%;}#sk-container-id-1 div.sk-parallel-item:last-child::after {align-self: flex-start;width: 50%;}#sk-container-id-1 div.sk-parallel-item:only-child::after {width: 0;}#sk-container-id-1 div.sk-dashed-wrapped {border: 1px dashed gray;margin: 0 0.4em 0.5em 0.4em;box-sizing: border-box;padding-bottom: 0.4em;background-color: white;}#sk-container-id-1 div.sk-label label {font-family: monospace;font-weight: bold;display: inline-block;line-height: 1.2em;}#sk-container-id-1 div.sk-label-container {text-align: center;}#sk-container-id-1 div.sk-container {/* jupyter's `normalize.less` sets `[hidden] { display: none; }` but bootstrap.min.css set `[hidden] { display: none !important; }` so we also need the `!important` here to be able to override the default hidden behavior on the sphinx rendered scikit-learn.org. See: https://github.com/scikit-learn/scikit-learn/issues/21755 */display: inline-block !important;position: relative;}#sk-container-id-1 div.sk-text-repr-fallback {display: none;}</style><div id=\"sk-container-id-1\" class=\"sk-top-container\"><div class=\"sk-text-repr-fallback\"><pre>GridSearchCV(cv=5, estimator=KNeighborsClassifier(),\n",
       "             param_grid={&#x27;n_neighbors&#x27;: [3, 5, 7, 9]})</pre><b>In a Jupyter environment, please rerun this cell to show the HTML representation or trust the notebook. <br />On GitHub, the HTML representation is unable to render, please try loading this page with nbviewer.org.</b></div><div class=\"sk-container\" hidden><div class=\"sk-item sk-dashed-wrapped\"><div class=\"sk-label-container\"><div class=\"sk-label sk-toggleable\"><input class=\"sk-toggleable__control sk-hidden--visually\" id=\"sk-estimator-id-1\" type=\"checkbox\" ><label for=\"sk-estimator-id-1\" class=\"sk-toggleable__label sk-toggleable__label-arrow\">GridSearchCV</label><div class=\"sk-toggleable__content\"><pre>GridSearchCV(cv=5, estimator=KNeighborsClassifier(),\n",
       "             param_grid={&#x27;n_neighbors&#x27;: [3, 5, 7, 9]})</pre></div></div></div><div class=\"sk-parallel\"><div class=\"sk-parallel-item\"><div class=\"sk-item\"><div class=\"sk-label-container\"><div class=\"sk-label sk-toggleable\"><input class=\"sk-toggleable__control sk-hidden--visually\" id=\"sk-estimator-id-2\" type=\"checkbox\" ><label for=\"sk-estimator-id-2\" class=\"sk-toggleable__label sk-toggleable__label-arrow\">estimator: KNeighborsClassifier</label><div class=\"sk-toggleable__content\"><pre>KNeighborsClassifier()</pre></div></div></div><div class=\"sk-serial\"><div class=\"sk-item\"><div class=\"sk-estimator sk-toggleable\"><input class=\"sk-toggleable__control sk-hidden--visually\" id=\"sk-estimator-id-3\" type=\"checkbox\" ><label for=\"sk-estimator-id-3\" class=\"sk-toggleable__label sk-toggleable__label-arrow\">KNeighborsClassifier</label><div class=\"sk-toggleable__content\"><pre>KNeighborsClassifier()</pre></div></div></div></div></div></div></div></div></div></div>"
      ],
      "text/plain": [
       "GridSearchCV(cv=5, estimator=KNeighborsClassifier(),\n",
       "             param_grid={'n_neighbors': [3, 5, 7, 9]})"
      ]
     },
     "execution_count": 23,
     "metadata": {},
     "output_type": "execute_result"
    }
   ],
   "source": [
    "# Hyperparameter tuning using GridSearchCV\n",
    "param_grid = {'n_neighbors': [3, 5, 7, 9]}\n",
    "knn = KNeighborsClassifier()\n",
    "grid_search = GridSearchCV(knn, param_grid, cv=5)\n",
    "grid_search.fit(X_train, y_train)"
   ]
  },
  {
   "cell_type": "code",
   "execution_count": 24,
   "id": "61c3cf46",
   "metadata": {},
   "outputs": [
    {
     "name": "stdout",
     "output_type": "stream",
     "text": [
      "Best Parameters: {'n_neighbors': 3}\n",
      "Best Score: 0.9944444444444445\n",
      "Accuracy: 0.9777777777777777\n",
      "Classification Report:\n",
      "              precision    recall  f1-score   support\n",
      "\n",
      "           0       0.96      1.00      0.98        47\n",
      "           1       1.00      0.95      0.97        39\n",
      "           2       1.00      1.00      1.00         2\n",
      "           3       1.00      1.00      1.00         2\n",
      "\n",
      "    accuracy                           0.98        90\n",
      "   macro avg       0.99      0.99      0.99        90\n",
      "weighted avg       0.98      0.98      0.98        90\n",
      "\n"
     ]
    }
   ],
   "source": [
    "# Best parameters and best score\n",
    "print(\"Best Parameters:\", grid_search.best_params_)\n",
    "print(\"Best Score:\", grid_search.best_score_)\n",
    "\n",
    "# Evaluating the model on the test set\n",
    "y_pred = grid_search.predict(X_test)\n",
    "accuracy = accuracy_score(y_test, y_pred)\n",
    "print(\"Accuracy:\", accuracy)\n",
    "print(\"Classification Report:\")\n",
    "print(classification_report(y_test, y_pred))"
   ]
  },
  {
   "cell_type": "markdown",
   "id": "d6ec2085",
   "metadata": {},
   "source": [
    "# Logestic Regression"
   ]
  },
  {
   "cell_type": "raw",
   "id": "e9c96d31",
   "metadata": {},
   "source": [
    "1. Despite its name, logistic regression is a linear model for binary classification that predicts the probability that a given input belongs to a certain class.\n",
    "2. It models the relationship between the categorical dependent variable and one or more independent variables by estimating probabilities using a logistic function.\n",
    "3. Logistic regression is often used as a baseline model for binary classification tasks due to its simplicity and interpretability."
   ]
  },
  {
   "cell_type": "code",
   "execution_count": 25,
   "id": "245f4d72",
   "metadata": {},
   "outputs": [
    {
     "name": "stderr",
     "output_type": "stream",
     "text": [
      "C:\\Users\\Kashish\\anaconda3\\Lib\\site-packages\\sklearn\\model_selection\\_split.py:725: UserWarning: The least populated class in y has only 4 members, which is less than n_splits=5.\n",
      "  warnings.warn(\n"
     ]
    },
    {
     "name": "stdout",
     "output_type": "stream",
     "text": [
      "Best Parameters: {'C': 100}\n",
      "Best Score: 0.986111111111111\n",
      "Accuracy: 0.9888888888888889\n",
      "Classification Report:\n",
      "              precision    recall  f1-score   support\n",
      "\n",
      "           0       0.98      1.00      0.99        47\n",
      "           1       1.00      0.97      0.99        39\n",
      "           2       1.00      1.00      1.00         2\n",
      "           3       1.00      1.00      1.00         2\n",
      "\n",
      "    accuracy                           0.99        90\n",
      "   macro avg       0.99      0.99      0.99        90\n",
      "weighted avg       0.99      0.99      0.99        90\n",
      "\n"
     ]
    }
   ],
   "source": [
    "from sklearn.linear_model import LogisticRegression\n",
    "\n",
    "# Hyperparameter tuning using GridSearchCV\n",
    "param_grid = {'C': [0.001, 0.01, 0.1, 1, 10, 100]}\n",
    "logistic_reg = LogisticRegression(max_iter=1000)\n",
    "grid_search = GridSearchCV(logistic_reg, param_grid, cv=5)\n",
    "grid_search.fit(X_train, y_train)\n",
    "\n",
    "# Best parameters and best score\n",
    "print(\"Best Parameters:\", grid_search.best_params_)\n",
    "print(\"Best Score:\", grid_search.best_score_)\n",
    "\n",
    "# Evaluating the model on the test set\n",
    "y_pred = grid_search.predict(X_test)\n",
    "accuracy = accuracy_score(y_test, y_pred)\n",
    "print(\"Accuracy:\", accuracy)\n",
    "print(\"Classification Report:\")\n",
    "print(classification_report(y_test, y_pred))\n"
   ]
  },
  {
   "cell_type": "markdown",
   "id": "2161331d",
   "metadata": {},
   "source": [
    "# Decision Tree"
   ]
  },
  {
   "cell_type": "raw",
   "id": "34d2ca28",
   "metadata": {},
   "source": [
    "1. Decision trees are a popular and powerful machine learning algorithm used for both classification and regression tasks.\n",
    "2. They work by recursively partitioning the feature space into subsets based on the values of the features, with each partition aiming to minimize impurity or maximize information gain.\n",
    "3. Decision trees are easy to interpret and visualize, making them useful for understanding the decision-making process of the model."
   ]
  },
  {
   "cell_type": "code",
   "execution_count": 26,
   "id": "6300afba",
   "metadata": {},
   "outputs": [
    {
     "name": "stderr",
     "output_type": "stream",
     "text": [
      "C:\\Users\\Kashish\\anaconda3\\Lib\\site-packages\\sklearn\\model_selection\\_split.py:725: UserWarning: The least populated class in y has only 4 members, which is less than n_splits=5.\n",
      "  warnings.warn(\n"
     ]
    },
    {
     "data": {
      "text/html": [
       "<style>#sk-container-id-2 {color: black;}#sk-container-id-2 pre{padding: 0;}#sk-container-id-2 div.sk-toggleable {background-color: white;}#sk-container-id-2 label.sk-toggleable__label {cursor: pointer;display: block;width: 100%;margin-bottom: 0;padding: 0.3em;box-sizing: border-box;text-align: center;}#sk-container-id-2 label.sk-toggleable__label-arrow:before {content: \"▸\";float: left;margin-right: 0.25em;color: #696969;}#sk-container-id-2 label.sk-toggleable__label-arrow:hover:before {color: black;}#sk-container-id-2 div.sk-estimator:hover label.sk-toggleable__label-arrow:before {color: black;}#sk-container-id-2 div.sk-toggleable__content {max-height: 0;max-width: 0;overflow: hidden;text-align: left;background-color: #f0f8ff;}#sk-container-id-2 div.sk-toggleable__content pre {margin: 0.2em;color: black;border-radius: 0.25em;background-color: #f0f8ff;}#sk-container-id-2 input.sk-toggleable__control:checked~div.sk-toggleable__content {max-height: 200px;max-width: 100%;overflow: auto;}#sk-container-id-2 input.sk-toggleable__control:checked~label.sk-toggleable__label-arrow:before {content: \"▾\";}#sk-container-id-2 div.sk-estimator input.sk-toggleable__control:checked~label.sk-toggleable__label {background-color: #d4ebff;}#sk-container-id-2 div.sk-label input.sk-toggleable__control:checked~label.sk-toggleable__label {background-color: #d4ebff;}#sk-container-id-2 input.sk-hidden--visually {border: 0;clip: rect(1px 1px 1px 1px);clip: rect(1px, 1px, 1px, 1px);height: 1px;margin: -1px;overflow: hidden;padding: 0;position: absolute;width: 1px;}#sk-container-id-2 div.sk-estimator {font-family: monospace;background-color: #f0f8ff;border: 1px dotted black;border-radius: 0.25em;box-sizing: border-box;margin-bottom: 0.5em;}#sk-container-id-2 div.sk-estimator:hover {background-color: #d4ebff;}#sk-container-id-2 div.sk-parallel-item::after {content: \"\";width: 100%;border-bottom: 1px solid gray;flex-grow: 1;}#sk-container-id-2 div.sk-label:hover label.sk-toggleable__label {background-color: #d4ebff;}#sk-container-id-2 div.sk-serial::before {content: \"\";position: absolute;border-left: 1px solid gray;box-sizing: border-box;top: 0;bottom: 0;left: 50%;z-index: 0;}#sk-container-id-2 div.sk-serial {display: flex;flex-direction: column;align-items: center;background-color: white;padding-right: 0.2em;padding-left: 0.2em;position: relative;}#sk-container-id-2 div.sk-item {position: relative;z-index: 1;}#sk-container-id-2 div.sk-parallel {display: flex;align-items: stretch;justify-content: center;background-color: white;position: relative;}#sk-container-id-2 div.sk-item::before, #sk-container-id-2 div.sk-parallel-item::before {content: \"\";position: absolute;border-left: 1px solid gray;box-sizing: border-box;top: 0;bottom: 0;left: 50%;z-index: -1;}#sk-container-id-2 div.sk-parallel-item {display: flex;flex-direction: column;z-index: 1;position: relative;background-color: white;}#sk-container-id-2 div.sk-parallel-item:first-child::after {align-self: flex-end;width: 50%;}#sk-container-id-2 div.sk-parallel-item:last-child::after {align-self: flex-start;width: 50%;}#sk-container-id-2 div.sk-parallel-item:only-child::after {width: 0;}#sk-container-id-2 div.sk-dashed-wrapped {border: 1px dashed gray;margin: 0 0.4em 0.5em 0.4em;box-sizing: border-box;padding-bottom: 0.4em;background-color: white;}#sk-container-id-2 div.sk-label label {font-family: monospace;font-weight: bold;display: inline-block;line-height: 1.2em;}#sk-container-id-2 div.sk-label-container {text-align: center;}#sk-container-id-2 div.sk-container {/* jupyter's `normalize.less` sets `[hidden] { display: none; }` but bootstrap.min.css set `[hidden] { display: none !important; }` so we also need the `!important` here to be able to override the default hidden behavior on the sphinx rendered scikit-learn.org. See: https://github.com/scikit-learn/scikit-learn/issues/21755 */display: inline-block !important;position: relative;}#sk-container-id-2 div.sk-text-repr-fallback {display: none;}</style><div id=\"sk-container-id-2\" class=\"sk-top-container\"><div class=\"sk-text-repr-fallback\"><pre>GridSearchCV(cv=5, estimator=DecisionTreeClassifier(),\n",
       "             param_grid={&#x27;max_depth&#x27;: [None, 5, 10, 15, 20]})</pre><b>In a Jupyter environment, please rerun this cell to show the HTML representation or trust the notebook. <br />On GitHub, the HTML representation is unable to render, please try loading this page with nbviewer.org.</b></div><div class=\"sk-container\" hidden><div class=\"sk-item sk-dashed-wrapped\"><div class=\"sk-label-container\"><div class=\"sk-label sk-toggleable\"><input class=\"sk-toggleable__control sk-hidden--visually\" id=\"sk-estimator-id-4\" type=\"checkbox\" ><label for=\"sk-estimator-id-4\" class=\"sk-toggleable__label sk-toggleable__label-arrow\">GridSearchCV</label><div class=\"sk-toggleable__content\"><pre>GridSearchCV(cv=5, estimator=DecisionTreeClassifier(),\n",
       "             param_grid={&#x27;max_depth&#x27;: [None, 5, 10, 15, 20]})</pre></div></div></div><div class=\"sk-parallel\"><div class=\"sk-parallel-item\"><div class=\"sk-item\"><div class=\"sk-label-container\"><div class=\"sk-label sk-toggleable\"><input class=\"sk-toggleable__control sk-hidden--visually\" id=\"sk-estimator-id-5\" type=\"checkbox\" ><label for=\"sk-estimator-id-5\" class=\"sk-toggleable__label sk-toggleable__label-arrow\">estimator: DecisionTreeClassifier</label><div class=\"sk-toggleable__content\"><pre>DecisionTreeClassifier()</pre></div></div></div><div class=\"sk-serial\"><div class=\"sk-item\"><div class=\"sk-estimator sk-toggleable\"><input class=\"sk-toggleable__control sk-hidden--visually\" id=\"sk-estimator-id-6\" type=\"checkbox\" ><label for=\"sk-estimator-id-6\" class=\"sk-toggleable__label sk-toggleable__label-arrow\">DecisionTreeClassifier</label><div class=\"sk-toggleable__content\"><pre>DecisionTreeClassifier()</pre></div></div></div></div></div></div></div></div></div></div>"
      ],
      "text/plain": [
       "GridSearchCV(cv=5, estimator=DecisionTreeClassifier(),\n",
       "             param_grid={'max_depth': [None, 5, 10, 15, 20]})"
      ]
     },
     "execution_count": 26,
     "metadata": {},
     "output_type": "execute_result"
    }
   ],
   "source": [
    "from sklearn.tree import DecisionTreeClassifier\n",
    "\n",
    "# Hyperparameter tuning using GridSearchCV\n",
    "param_grid = {'max_depth': [None, 5, 10, 15, 20]}\n",
    "decision_tree = DecisionTreeClassifier()\n",
    "grid_search = GridSearchCV(decision_tree, param_grid, cv=5)\n",
    "grid_search.fit(X_train, y_train)\n"
   ]
  },
  {
   "cell_type": "code",
   "execution_count": 27,
   "id": "b4b03b21",
   "metadata": {},
   "outputs": [
    {
     "name": "stdout",
     "output_type": "stream",
     "text": [
      "Best Parameters: {'max_depth': None}\n",
      "Best Score: 0.9944444444444445\n"
     ]
    }
   ],
   "source": [
    "# Best parameters and best score\n",
    "print(\"Best Parameters:\", grid_search.best_params_)\n",
    "print(\"Best Score:\", grid_search.best_score_)"
   ]
  },
  {
   "cell_type": "code",
   "execution_count": 28,
   "id": "434712ae",
   "metadata": {},
   "outputs": [
    {
     "name": "stdout",
     "output_type": "stream",
     "text": [
      "Accuracy: 1.0\n",
      "Classification Report:\n",
      "              precision    recall  f1-score   support\n",
      "\n",
      "           0       1.00      1.00      1.00        47\n",
      "           1       1.00      1.00      1.00        39\n",
      "           2       1.00      1.00      1.00         2\n",
      "           3       1.00      1.00      1.00         2\n",
      "\n",
      "    accuracy                           1.00        90\n",
      "   macro avg       1.00      1.00      1.00        90\n",
      "weighted avg       1.00      1.00      1.00        90\n",
      "\n"
     ]
    }
   ],
   "source": [
    "# Evaluating the model on the test set\n",
    "y_pred = grid_search.predict(X_test)\n",
    "accuracy = accuracy_score(y_test, y_pred)\n",
    "print(\"Accuracy:\", accuracy)\n",
    "print(\"Classification Report:\")\n",
    "print(classification_report(y_test, y_pred))"
   ]
  },
  {
   "cell_type": "markdown",
   "id": "1bad97a4",
   "metadata": {},
   "source": [
    "# Random Forest"
   ]
  },
  {
   "cell_type": "raw",
   "id": "f10bbcb9",
   "metadata": {},
   "source": [
    "1. Random Forest is an ensemble learning method that builds multiple decision trees during training and outputs the class that is the mode of the classes (classification) or mean prediction (regression) of the individual trees.\n",
    "2. It combines the predictions of multiple decision trees to improve the overall accuracy and generalization of the model.\n",
    "3. Random Forests are robust to overfitting and handle high-dimensional data well, making them popular for a wide range of classification and regression tasks."
   ]
  },
  {
   "cell_type": "code",
   "execution_count": 29,
   "id": "50b8eeaa",
   "metadata": {},
   "outputs": [
    {
     "name": "stderr",
     "output_type": "stream",
     "text": [
      "C:\\Users\\Kashish\\anaconda3\\Lib\\site-packages\\sklearn\\model_selection\\_split.py:725: UserWarning: The least populated class in y has only 4 members, which is less than n_splits=5.\n",
      "  warnings.warn(\n"
     ]
    },
    {
     "data": {
      "text/html": [
       "<style>#sk-container-id-3 {color: black;}#sk-container-id-3 pre{padding: 0;}#sk-container-id-3 div.sk-toggleable {background-color: white;}#sk-container-id-3 label.sk-toggleable__label {cursor: pointer;display: block;width: 100%;margin-bottom: 0;padding: 0.3em;box-sizing: border-box;text-align: center;}#sk-container-id-3 label.sk-toggleable__label-arrow:before {content: \"▸\";float: left;margin-right: 0.25em;color: #696969;}#sk-container-id-3 label.sk-toggleable__label-arrow:hover:before {color: black;}#sk-container-id-3 div.sk-estimator:hover label.sk-toggleable__label-arrow:before {color: black;}#sk-container-id-3 div.sk-toggleable__content {max-height: 0;max-width: 0;overflow: hidden;text-align: left;background-color: #f0f8ff;}#sk-container-id-3 div.sk-toggleable__content pre {margin: 0.2em;color: black;border-radius: 0.25em;background-color: #f0f8ff;}#sk-container-id-3 input.sk-toggleable__control:checked~div.sk-toggleable__content {max-height: 200px;max-width: 100%;overflow: auto;}#sk-container-id-3 input.sk-toggleable__control:checked~label.sk-toggleable__label-arrow:before {content: \"▾\";}#sk-container-id-3 div.sk-estimator input.sk-toggleable__control:checked~label.sk-toggleable__label {background-color: #d4ebff;}#sk-container-id-3 div.sk-label input.sk-toggleable__control:checked~label.sk-toggleable__label {background-color: #d4ebff;}#sk-container-id-3 input.sk-hidden--visually {border: 0;clip: rect(1px 1px 1px 1px);clip: rect(1px, 1px, 1px, 1px);height: 1px;margin: -1px;overflow: hidden;padding: 0;position: absolute;width: 1px;}#sk-container-id-3 div.sk-estimator {font-family: monospace;background-color: #f0f8ff;border: 1px dotted black;border-radius: 0.25em;box-sizing: border-box;margin-bottom: 0.5em;}#sk-container-id-3 div.sk-estimator:hover {background-color: #d4ebff;}#sk-container-id-3 div.sk-parallel-item::after {content: \"\";width: 100%;border-bottom: 1px solid gray;flex-grow: 1;}#sk-container-id-3 div.sk-label:hover label.sk-toggleable__label {background-color: #d4ebff;}#sk-container-id-3 div.sk-serial::before {content: \"\";position: absolute;border-left: 1px solid gray;box-sizing: border-box;top: 0;bottom: 0;left: 50%;z-index: 0;}#sk-container-id-3 div.sk-serial {display: flex;flex-direction: column;align-items: center;background-color: white;padding-right: 0.2em;padding-left: 0.2em;position: relative;}#sk-container-id-3 div.sk-item {position: relative;z-index: 1;}#sk-container-id-3 div.sk-parallel {display: flex;align-items: stretch;justify-content: center;background-color: white;position: relative;}#sk-container-id-3 div.sk-item::before, #sk-container-id-3 div.sk-parallel-item::before {content: \"\";position: absolute;border-left: 1px solid gray;box-sizing: border-box;top: 0;bottom: 0;left: 50%;z-index: -1;}#sk-container-id-3 div.sk-parallel-item {display: flex;flex-direction: column;z-index: 1;position: relative;background-color: white;}#sk-container-id-3 div.sk-parallel-item:first-child::after {align-self: flex-end;width: 50%;}#sk-container-id-3 div.sk-parallel-item:last-child::after {align-self: flex-start;width: 50%;}#sk-container-id-3 div.sk-parallel-item:only-child::after {width: 0;}#sk-container-id-3 div.sk-dashed-wrapped {border: 1px dashed gray;margin: 0 0.4em 0.5em 0.4em;box-sizing: border-box;padding-bottom: 0.4em;background-color: white;}#sk-container-id-3 div.sk-label label {font-family: monospace;font-weight: bold;display: inline-block;line-height: 1.2em;}#sk-container-id-3 div.sk-label-container {text-align: center;}#sk-container-id-3 div.sk-container {/* jupyter's `normalize.less` sets `[hidden] { display: none; }` but bootstrap.min.css set `[hidden] { display: none !important; }` so we also need the `!important` here to be able to override the default hidden behavior on the sphinx rendered scikit-learn.org. See: https://github.com/scikit-learn/scikit-learn/issues/21755 */display: inline-block !important;position: relative;}#sk-container-id-3 div.sk-text-repr-fallback {display: none;}</style><div id=\"sk-container-id-3\" class=\"sk-top-container\"><div class=\"sk-text-repr-fallback\"><pre>GridSearchCV(cv=5, estimator=RandomForestClassifier(),\n",
       "             param_grid={&#x27;max_depth&#x27;: [None, 5, 10, 15, 20],\n",
       "                         &#x27;n_estimators&#x27;: [100, 200, 300]})</pre><b>In a Jupyter environment, please rerun this cell to show the HTML representation or trust the notebook. <br />On GitHub, the HTML representation is unable to render, please try loading this page with nbviewer.org.</b></div><div class=\"sk-container\" hidden><div class=\"sk-item sk-dashed-wrapped\"><div class=\"sk-label-container\"><div class=\"sk-label sk-toggleable\"><input class=\"sk-toggleable__control sk-hidden--visually\" id=\"sk-estimator-id-7\" type=\"checkbox\" ><label for=\"sk-estimator-id-7\" class=\"sk-toggleable__label sk-toggleable__label-arrow\">GridSearchCV</label><div class=\"sk-toggleable__content\"><pre>GridSearchCV(cv=5, estimator=RandomForestClassifier(),\n",
       "             param_grid={&#x27;max_depth&#x27;: [None, 5, 10, 15, 20],\n",
       "                         &#x27;n_estimators&#x27;: [100, 200, 300]})</pre></div></div></div><div class=\"sk-parallel\"><div class=\"sk-parallel-item\"><div class=\"sk-item\"><div class=\"sk-label-container\"><div class=\"sk-label sk-toggleable\"><input class=\"sk-toggleable__control sk-hidden--visually\" id=\"sk-estimator-id-8\" type=\"checkbox\" ><label for=\"sk-estimator-id-8\" class=\"sk-toggleable__label sk-toggleable__label-arrow\">estimator: RandomForestClassifier</label><div class=\"sk-toggleable__content\"><pre>RandomForestClassifier()</pre></div></div></div><div class=\"sk-serial\"><div class=\"sk-item\"><div class=\"sk-estimator sk-toggleable\"><input class=\"sk-toggleable__control sk-hidden--visually\" id=\"sk-estimator-id-9\" type=\"checkbox\" ><label for=\"sk-estimator-id-9\" class=\"sk-toggleable__label sk-toggleable__label-arrow\">RandomForestClassifier</label><div class=\"sk-toggleable__content\"><pre>RandomForestClassifier()</pre></div></div></div></div></div></div></div></div></div></div>"
      ],
      "text/plain": [
       "GridSearchCV(cv=5, estimator=RandomForestClassifier(),\n",
       "             param_grid={'max_depth': [None, 5, 10, 15, 20],\n",
       "                         'n_estimators': [100, 200, 300]})"
      ]
     },
     "execution_count": 29,
     "metadata": {},
     "output_type": "execute_result"
    }
   ],
   "source": [
    "from sklearn.ensemble import RandomForestClassifier\n",
    "\n",
    "# Hyperparameter tuning using GridSearchCV\n",
    "param_grid = {'n_estimators': [100, 200, 300],\n",
    "              'max_depth': [None, 5, 10, 15, 20]}\n",
    "random_forest = RandomForestClassifier()\n",
    "grid_search = GridSearchCV(random_forest, param_grid, cv=5)\n",
    "grid_search.fit(X_train, y_train)"
   ]
  },
  {
   "cell_type": "code",
   "execution_count": 30,
   "id": "68fb0bc4",
   "metadata": {},
   "outputs": [
    {
     "name": "stdout",
     "output_type": "stream",
     "text": [
      "Best Parameters: {'max_depth': 10, 'n_estimators': 100}\n",
      "Best Score: 0.9972222222222221\n"
     ]
    }
   ],
   "source": [
    "# Best parameters and best score\n",
    "print(\"Best Parameters:\", grid_search.best_params_)\n",
    "print(\"Best Score:\", grid_search.best_score_)"
   ]
  },
  {
   "cell_type": "code",
   "execution_count": 31,
   "id": "df5865d5",
   "metadata": {},
   "outputs": [
    {
     "name": "stdout",
     "output_type": "stream",
     "text": [
      "Accuracy: 1.0\n",
      "Classification Report:\n",
      "              precision    recall  f1-score   support\n",
      "\n",
      "           0       1.00      1.00      1.00        47\n",
      "           1       1.00      1.00      1.00        39\n",
      "           2       1.00      1.00      1.00         2\n",
      "           3       1.00      1.00      1.00         2\n",
      "\n",
      "    accuracy                           1.00        90\n",
      "   macro avg       1.00      1.00      1.00        90\n",
      "weighted avg       1.00      1.00      1.00        90\n",
      "\n"
     ]
    }
   ],
   "source": [
    "# Evaluating the model on the test set\n",
    "y_pred = grid_search.predict(X_test)\n",
    "accuracy = accuracy_score(y_test, y_pred)\n",
    "print(\"Accuracy:\", accuracy)\n",
    "print(\"Classification Report:\")\n",
    "print(classification_report(y_test, y_pred))"
   ]
  },
  {
   "cell_type": "markdown",
   "id": "6af99959",
   "metadata": {},
   "source": [
    "# SVM"
   ]
  },
  {
   "cell_type": "raw",
   "id": "da3bb4aa",
   "metadata": {},
   "source": [
    "1. SVM is a powerful supervised learning algorithm used for classification and regression tasks.\n",
    "2. It works by finding the hyperplane that best separates the classes in the feature space while maximizing the margin between the classes.\n",
    "3. SVM can handle linear and non-linear decision boundaries using different kernel functions such as linear, polynomial, and radial basis function (RBF) kernels."
   ]
  },
  {
   "cell_type": "code",
   "execution_count": 32,
   "id": "74cf689c",
   "metadata": {},
   "outputs": [
    {
     "name": "stderr",
     "output_type": "stream",
     "text": [
      "C:\\Users\\Kashish\\anaconda3\\Lib\\site-packages\\sklearn\\model_selection\\_split.py:725: UserWarning: The least populated class in y has only 4 members, which is less than n_splits=5.\n",
      "  warnings.warn(\n"
     ]
    },
    {
     "data": {
      "text/html": [
       "<style>#sk-container-id-4 {color: black;}#sk-container-id-4 pre{padding: 0;}#sk-container-id-4 div.sk-toggleable {background-color: white;}#sk-container-id-4 label.sk-toggleable__label {cursor: pointer;display: block;width: 100%;margin-bottom: 0;padding: 0.3em;box-sizing: border-box;text-align: center;}#sk-container-id-4 label.sk-toggleable__label-arrow:before {content: \"▸\";float: left;margin-right: 0.25em;color: #696969;}#sk-container-id-4 label.sk-toggleable__label-arrow:hover:before {color: black;}#sk-container-id-4 div.sk-estimator:hover label.sk-toggleable__label-arrow:before {color: black;}#sk-container-id-4 div.sk-toggleable__content {max-height: 0;max-width: 0;overflow: hidden;text-align: left;background-color: #f0f8ff;}#sk-container-id-4 div.sk-toggleable__content pre {margin: 0.2em;color: black;border-radius: 0.25em;background-color: #f0f8ff;}#sk-container-id-4 input.sk-toggleable__control:checked~div.sk-toggleable__content {max-height: 200px;max-width: 100%;overflow: auto;}#sk-container-id-4 input.sk-toggleable__control:checked~label.sk-toggleable__label-arrow:before {content: \"▾\";}#sk-container-id-4 div.sk-estimator input.sk-toggleable__control:checked~label.sk-toggleable__label {background-color: #d4ebff;}#sk-container-id-4 div.sk-label input.sk-toggleable__control:checked~label.sk-toggleable__label {background-color: #d4ebff;}#sk-container-id-4 input.sk-hidden--visually {border: 0;clip: rect(1px 1px 1px 1px);clip: rect(1px, 1px, 1px, 1px);height: 1px;margin: -1px;overflow: hidden;padding: 0;position: absolute;width: 1px;}#sk-container-id-4 div.sk-estimator {font-family: monospace;background-color: #f0f8ff;border: 1px dotted black;border-radius: 0.25em;box-sizing: border-box;margin-bottom: 0.5em;}#sk-container-id-4 div.sk-estimator:hover {background-color: #d4ebff;}#sk-container-id-4 div.sk-parallel-item::after {content: \"\";width: 100%;border-bottom: 1px solid gray;flex-grow: 1;}#sk-container-id-4 div.sk-label:hover label.sk-toggleable__label {background-color: #d4ebff;}#sk-container-id-4 div.sk-serial::before {content: \"\";position: absolute;border-left: 1px solid gray;box-sizing: border-box;top: 0;bottom: 0;left: 50%;z-index: 0;}#sk-container-id-4 div.sk-serial {display: flex;flex-direction: column;align-items: center;background-color: white;padding-right: 0.2em;padding-left: 0.2em;position: relative;}#sk-container-id-4 div.sk-item {position: relative;z-index: 1;}#sk-container-id-4 div.sk-parallel {display: flex;align-items: stretch;justify-content: center;background-color: white;position: relative;}#sk-container-id-4 div.sk-item::before, #sk-container-id-4 div.sk-parallel-item::before {content: \"\";position: absolute;border-left: 1px solid gray;box-sizing: border-box;top: 0;bottom: 0;left: 50%;z-index: -1;}#sk-container-id-4 div.sk-parallel-item {display: flex;flex-direction: column;z-index: 1;position: relative;background-color: white;}#sk-container-id-4 div.sk-parallel-item:first-child::after {align-self: flex-end;width: 50%;}#sk-container-id-4 div.sk-parallel-item:last-child::after {align-self: flex-start;width: 50%;}#sk-container-id-4 div.sk-parallel-item:only-child::after {width: 0;}#sk-container-id-4 div.sk-dashed-wrapped {border: 1px dashed gray;margin: 0 0.4em 0.5em 0.4em;box-sizing: border-box;padding-bottom: 0.4em;background-color: white;}#sk-container-id-4 div.sk-label label {font-family: monospace;font-weight: bold;display: inline-block;line-height: 1.2em;}#sk-container-id-4 div.sk-label-container {text-align: center;}#sk-container-id-4 div.sk-container {/* jupyter's `normalize.less` sets `[hidden] { display: none; }` but bootstrap.min.css set `[hidden] { display: none !important; }` so we also need the `!important` here to be able to override the default hidden behavior on the sphinx rendered scikit-learn.org. See: https://github.com/scikit-learn/scikit-learn/issues/21755 */display: inline-block !important;position: relative;}#sk-container-id-4 div.sk-text-repr-fallback {display: none;}</style><div id=\"sk-container-id-4\" class=\"sk-top-container\"><div class=\"sk-text-repr-fallback\"><pre>GridSearchCV(cv=5, estimator=SVC(),\n",
       "             param_grid={&#x27;C&#x27;: [0.1, 1, 10, 100],\n",
       "                         &#x27;gamma&#x27;: [0.1, 0.01, 0.001, 0.0001],\n",
       "                         &#x27;kernel&#x27;: [&#x27;rbf&#x27;, &#x27;linear&#x27;, &#x27;poly&#x27;, &#x27;sigmoid&#x27;]})</pre><b>In a Jupyter environment, please rerun this cell to show the HTML representation or trust the notebook. <br />On GitHub, the HTML representation is unable to render, please try loading this page with nbviewer.org.</b></div><div class=\"sk-container\" hidden><div class=\"sk-item sk-dashed-wrapped\"><div class=\"sk-label-container\"><div class=\"sk-label sk-toggleable\"><input class=\"sk-toggleable__control sk-hidden--visually\" id=\"sk-estimator-id-10\" type=\"checkbox\" ><label for=\"sk-estimator-id-10\" class=\"sk-toggleable__label sk-toggleable__label-arrow\">GridSearchCV</label><div class=\"sk-toggleable__content\"><pre>GridSearchCV(cv=5, estimator=SVC(),\n",
       "             param_grid={&#x27;C&#x27;: [0.1, 1, 10, 100],\n",
       "                         &#x27;gamma&#x27;: [0.1, 0.01, 0.001, 0.0001],\n",
       "                         &#x27;kernel&#x27;: [&#x27;rbf&#x27;, &#x27;linear&#x27;, &#x27;poly&#x27;, &#x27;sigmoid&#x27;]})</pre></div></div></div><div class=\"sk-parallel\"><div class=\"sk-parallel-item\"><div class=\"sk-item\"><div class=\"sk-label-container\"><div class=\"sk-label sk-toggleable\"><input class=\"sk-toggleable__control sk-hidden--visually\" id=\"sk-estimator-id-11\" type=\"checkbox\" ><label for=\"sk-estimator-id-11\" class=\"sk-toggleable__label sk-toggleable__label-arrow\">estimator: SVC</label><div class=\"sk-toggleable__content\"><pre>SVC()</pre></div></div></div><div class=\"sk-serial\"><div class=\"sk-item\"><div class=\"sk-estimator sk-toggleable\"><input class=\"sk-toggleable__control sk-hidden--visually\" id=\"sk-estimator-id-12\" type=\"checkbox\" ><label for=\"sk-estimator-id-12\" class=\"sk-toggleable__label sk-toggleable__label-arrow\">SVC</label><div class=\"sk-toggleable__content\"><pre>SVC()</pre></div></div></div></div></div></div></div></div></div></div>"
      ],
      "text/plain": [
       "GridSearchCV(cv=5, estimator=SVC(),\n",
       "             param_grid={'C': [0.1, 1, 10, 100],\n",
       "                         'gamma': [0.1, 0.01, 0.001, 0.0001],\n",
       "                         'kernel': ['rbf', 'linear', 'poly', 'sigmoid']})"
      ]
     },
     "execution_count": 32,
     "metadata": {},
     "output_type": "execute_result"
    }
   ],
   "source": [
    "from sklearn.svm import SVC\n",
    "\n",
    "# Hyperparameter tuning using GridSearchCV\n",
    "param_grid = {'C': [0.1, 1, 10, 100],\n",
    "              'gamma': [0.1, 0.01, 0.001, 0.0001],\n",
    "              'kernel': ['rbf', 'linear', 'poly', 'sigmoid']}\n",
    "svm = SVC()\n",
    "grid_search = GridSearchCV(svm, param_grid, cv=5)\n",
    "grid_search.fit(X_train, y_train)"
   ]
  },
  {
   "cell_type": "code",
   "execution_count": 33,
   "id": "42d11ab4",
   "metadata": {},
   "outputs": [
    {
     "name": "stdout",
     "output_type": "stream",
     "text": [
      "Best Parameters: {'C': 10, 'gamma': 0.1, 'kernel': 'linear'}\n",
      "Best Score: 0.9944444444444445\n"
     ]
    }
   ],
   "source": [
    "# Best parameters and best score\n",
    "print(\"Best Parameters:\", grid_search.best_params_)\n",
    "print(\"Best Score:\", grid_search.best_score_)"
   ]
  },
  {
   "cell_type": "code",
   "execution_count": 34,
   "id": "4718fada",
   "metadata": {},
   "outputs": [
    {
     "name": "stdout",
     "output_type": "stream",
     "text": [
      "Accuracy: 0.9888888888888889\n",
      "Classification Report:\n",
      "              precision    recall  f1-score   support\n",
      "\n",
      "           0       0.98      1.00      0.99        47\n",
      "           1       1.00      0.97      0.99        39\n",
      "           2       1.00      1.00      1.00         2\n",
      "           3       1.00      1.00      1.00         2\n",
      "\n",
      "    accuracy                           0.99        90\n",
      "   macro avg       0.99      0.99      0.99        90\n",
      "weighted avg       0.99      0.99      0.99        90\n",
      "\n"
     ]
    }
   ],
   "source": [
    "# Evaluating the model on the test set\n",
    "y_pred = grid_search.predict(X_test)\n",
    "accuracy = accuracy_score(y_test, y_pred)\n",
    "print(\"Accuracy:\", accuracy)\n",
    "print(\"Classification Report:\")\n",
    "print(classification_report(y_test, y_pred))"
   ]
  },
  {
   "cell_type": "markdown",
   "id": "05cb228c",
   "metadata": {},
   "source": [
    "# Naive Bayes"
   ]
  },
  {
   "cell_type": "raw",
   "id": "833c24fe",
   "metadata": {},
   "source": [
    "1. Naive Bayes is a probabilistic classifier based on Bayes' theorem with the assumption of independence between features.\n",
    "2. Despite its simplicity, Naive Bayes often performs surprisingly well in practice, especially for text classification tasks.\n",
    "3. It's particularly useful when dealing with high-dimensional datasets and has low computational overhead, making it efficient for large-scale applications."
   ]
  },
  {
   "cell_type": "code",
   "execution_count": 35,
   "id": "d5d2c047",
   "metadata": {},
   "outputs": [
    {
     "name": "stdout",
     "output_type": "stream",
     "text": [
      "Accuracy: 0.9222222222222223\n",
      "Classification Report:\n",
      "              precision    recall  f1-score   support\n",
      "\n",
      "           0       1.00      0.87      0.93        47\n",
      "           1       0.86      0.97      0.92        39\n",
      "           2       0.67      1.00      0.80         2\n",
      "           3       1.00      1.00      1.00         2\n",
      "\n",
      "    accuracy                           0.92        90\n",
      "   macro avg       0.88      0.96      0.91        90\n",
      "weighted avg       0.93      0.92      0.92        90\n",
      "\n"
     ]
    }
   ],
   "source": [
    "from sklearn.naive_bayes import GaussianNB\n",
    "\n",
    "# Creating and fitting the model\n",
    "naive_bayes = GaussianNB()\n",
    "naive_bayes.fit(X_train, y_train)\n",
    "\n",
    "# Evaluating the model on the test set\n",
    "y_pred = naive_bayes.predict(X_test)\n",
    "accuracy = accuracy_score(y_test, y_pred)\n",
    "print(\"Accuracy:\", accuracy)\n",
    "print(\"Classification Report:\")\n",
    "print(classification_report(y_test, y_pred))\n"
   ]
  },
  {
   "cell_type": "markdown",
   "id": "737982f4",
   "metadata": {},
   "source": [
    "# ROC"
   ]
  },
  {
   "cell_type": "markdown",
   "id": "539335b2",
   "metadata": {},
   "source": [
    "The ROC curve provides a visual representation of the trade-off between the true positive rate and the false positive rate across different threshold settings. It's a useful tool for evaluating and comparing the performance of binary classification algorithms."
   ]
  },
  {
   "cell_type": "code",
   "execution_count": 37,
   "id": "10516e15",
   "metadata": {},
   "outputs": [
    {
     "ename": "IndexError",
     "evalue": "too many indices for array: array is 1-dimensional, but 2 were indexed",
     "output_type": "error",
     "traceback": [
      "\u001b[1;31m---------------------------------------------------------------------------\u001b[0m",
      "\u001b[1;31mIndexError\u001b[0m                                Traceback (most recent call last)",
      "Cell \u001b[1;32mIn[37], line 12\u001b[0m\n\u001b[0;32m     10\u001b[0m roc_auc_svm \u001b[38;5;241m=\u001b[39m \u001b[38;5;28mdict\u001b[39m()\n\u001b[0;32m     11\u001b[0m \u001b[38;5;28;01mfor\u001b[39;00m i \u001b[38;5;129;01min\u001b[39;00m \u001b[38;5;28mrange\u001b[39m(\u001b[38;5;28mlen\u001b[39m(grid_search\u001b[38;5;241m.\u001b[39mbest_estimator_\u001b[38;5;241m.\u001b[39mclasses_)):\n\u001b[1;32m---> 12\u001b[0m     fpr_svm[i], tpr_svm[i], _ \u001b[38;5;241m=\u001b[39m roc_curve(y_test, y_prob_svm[:, i])\n\u001b[0;32m     13\u001b[0m     roc_auc_svm[i] \u001b[38;5;241m=\u001b[39m auc(fpr_svm[i], tpr_svm[i])\n\u001b[0;32m     15\u001b[0m \u001b[38;5;66;03m# Plot ROC curve for each class\u001b[39;00m\n",
      "\u001b[1;31mIndexError\u001b[0m: too many indices for array: array is 1-dimensional, but 2 were indexed"
     ]
    }
   ],
   "source": [
    "from sklearn.metrics import roc_curve, auc\n",
    "import matplotlib.pyplot as plt\n",
    "\n",
    "# Predict probabilities for each class\n",
    "y_prob_svm = grid_search.best_estimator_.predict(X_test)\n",
    "\n",
    "# Compute ROC curve and AUC for each class\n",
    "fpr_svm = dict()\n",
    "tpr_svm = dict()\n",
    "roc_auc_svm = dict()\n",
    "for i in range(len(grid_search.best_estimator_.classes_)):\n",
    "    fpr_svm[i], tpr_svm[i], _ = roc_curve(y_test, y_prob_svm[:, i])\n",
    "    roc_auc_svm[i] = auc(fpr_svm[i], tpr_svm[i])\n",
    "\n",
    "# Plot ROC curve for each class\n",
    "plt.figure(figsize=(8, 6))\n",
    "for i in range(len(grid_search.best_estimator_.classes_)):\n",
    "    plt.plot(fpr_svm[i], tpr_svm[i], label='ROC curve (area = %0.2f) for class %d' % (roc_auc_svm[i], i))\n",
    "plt.plot([0, 1], [0, 1], 'k--')\n",
    "plt.xlim([0.0, 1.0])\n",
    "plt.ylim([0.0, 1.05])\n",
    "plt.xlabel('False Positive Rate')\n",
    "plt.ylabel('True Positive Rate')\n",
    "plt.title('Receiver Operating Characteristic (ROC) Curve for SVM')\n",
    "plt.legend(loc=\"lower right\")\n",
    "plt.show()\n"
   ]
  },
  {
   "cell_type": "code",
   "execution_count": null,
   "id": "6b09c997",
   "metadata": {},
   "outputs": [],
   "source": []
  }
 ],
 "metadata": {
  "kernelspec": {
   "display_name": "Python 3 (ipykernel)",
   "language": "python",
   "name": "python3"
  },
  "language_info": {
   "codemirror_mode": {
    "name": "ipython",
    "version": 3
   },
   "file_extension": ".py",
   "mimetype": "text/x-python",
   "name": "python",
   "nbconvert_exporter": "python",
   "pygments_lexer": "ipython3",
   "version": "3.11.5"
  }
 },
 "nbformat": 4,
 "nbformat_minor": 5
}
